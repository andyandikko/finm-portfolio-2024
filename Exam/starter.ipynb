{
 "cells": [
  {
   "cell_type": "markdown",
   "metadata": {},
   "source": []
  },
  {
   "cell_type": "code",
   "execution_count": null,
   "metadata": {},
   "outputs": [
    {
     "name": "stdout",
     "output_type": "stream",
     "text": [
      "c:\\Users\\Andik\\OneDrive\\Desktop\\Chicago\\Portfolio theory and risk management\\githubrepo\\finm-portfolio-2024\n"
     ]
    }
   ],
   "source": [
    "import numpy as np\n",
    "import os\n",
    "from arch import arch_model\n",
    "import re\n",
    "import sys\n",
    "import matplotlib.pyplot as plt\n",
    "from scipy.stats import norm\n",
    "import seaborn as sns\n",
    "import pandas as pd\n",
    "import numpy as np\n",
    "import matplotlib.pyplot as plt\n",
    "import scipy.stats as stats\n",
    "import os\n",
    "import sys\n",
    "from typing import Tuple, Dict, Union, Callable\n",
    "notebook_dir = \"Exam\"\n",
    "if os.path.basename(os.getcwd()) == notebook_dir:\n",
    "    os.chdir(os.pardir)  # Change to parent directory\n",
    "    sys.path.append(os.getcwd())  # Add the new current directory to sys.path\n",
    "\n",
    "import cmds.portfolio_management_helper as pmh\n",
    "import functions.functions_andy as fa\n",
    "print(os.getcwd())\n",
    "\n",
    "from sklearn.linear_model import LinearRegression\n",
    "from dask.distributed import Client, wait\n",
    "# From HW1\n",
    "import statsmodels.api as sm\n",
    "from statsmodels.regression.rolling import RollingOLS\n",
    "from sklearn.metrics import r2_score\n",
    "from scipy.stats import describe\n",
    "\n",
    "from sklearn.preprocessing import PolynomialFeatures\n",
    "from sklearn.pipeline import make_pipeline\n",
    "from sklearn.pipeline import Pipeline"
   ]
  },
  {
   "cell_type": "code",
   "execution_count": null,
   "metadata": {},
   "outputs": [],
   "source": []
  }
 ],
 "metadata": {
  "kernelspec": {
   "display_name": "chicago-aug-review",
   "language": "python",
   "name": "python3"
  },
  "language_info": {
   "codemirror_mode": {
    "name": "ipython",
    "version": 3
   },
   "file_extension": ".py",
   "mimetype": "text/x-python",
   "name": "python",
   "nbconvert_exporter": "python",
   "pygments_lexer": "ipython3",
   "version": "3.11.9"
  }
 },
 "nbformat": 4,
 "nbformat_minor": 2
}
