{
 "cells": [
  {
   "cell_type": "markdown",
   "id": "e3eee68c",
   "metadata": {},
   "source": [
    "# Homework 2\n",
    "\n",
    "## FINM 36700 - 2024\n",
    "\n",
    "### UChicago Financial Mathematics\n",
    "\n",
    "* Mark Hendricks\n",
    "* hendricks@uchicago.edu\n",
    "\n",
    "## HBS Case\n",
    "\n",
    "### *ProShares Hedge Replication ETF*"
   ]
  },
  {
   "cell_type": "markdown",
   "id": "3ed4b263",
   "metadata": {},
   "source": [
    "***"
   ]
  },
  {
   "cell_type": "markdown",
   "id": "32a1eb4b",
   "metadata": {},
   "source": [
    "# 1. The ProShares ETF Product\n",
    "\n",
    "**Section 1 is not graded**, and you do not need to submit your answers. But you are encouraged to think about them, and we will discuss them."
   ]
  },
  {
   "cell_type": "markdown",
   "id": "976c4cd6",
   "metadata": {},
   "source": [
    "## 1. Alternative ETFs\n",
    "\n",
    "Describe the two types of investments referenced by this term."
   ]
  },
  {
   "cell_type": "markdown",
   "id": "8734de0d",
   "metadata": {
    "vscode": {
     "languageId": "plaintext"
    }
   },
   "source": [
    "Alternative ETFs is a loose concept that generally includes 2 types of investments: alternatice asset classes (giving exposure to non mainstream assets) and alternative strategies (pursuing investment processes that were not constrained and could use leverage, shorting, and derivatives)"
   ]
  },
  {
   "cell_type": "markdown",
   "id": "a350c607",
   "metadata": {},
   "source": [
    "## 2. Hedge Funds.\n",
    "\n",
    "a. Using just the information in the case, what are two measures by which hedge funds are an attractive investment?\n",
    "\n",
    "b. What are the main benefits of investing in hedge funds via an ETF instead of directly?"
   ]
  },
  {
   "cell_type": "markdown",
   "id": "ccc0a3f5",
   "metadata": {},
   "source": [
    "Hedge funds are known for generating significant alpha and offering excess returns. They often exhibit lower volatility compared to benchmarks such as equity indexes, and are capable of delivering absolute returns across various market conditions. Over the period from 1994 to 2013, hedge funds have consistently outperformed stocks by 10% and have delivered more than double the returns of bonds. Additionally, they offer lower volatility and better downside protection during financial crises.\n",
    "\n",
    "Investing in hedge funds via an ETF can mitigate some common barriers such as high minimum capital requirements and complex fee structures, which typically include a 2% annual management fee and a 20% performance fee on gains, along with additional sub-manager fees. Furthermore, ETFs simplify tax reporting compared to hedge funds, eliminating the need for complicated K-1 forms and making tax filing less burdensome."
   ]
  },
  {
   "cell_type": "markdown",
   "id": "f1c6d57d",
   "metadata": {},
   "source": [
    "## 3. The Benchmarks\n",
    "\n",
    "a. Explain as simply as possible how HFRI, MLFM, MLFM-ES, and HDG differ in their construction and purpose.\n",
    "\n",
    "b. How well does the Merrill Lynch Factor Model (MLFM) track the HFRI?\n",
    "\n",
    "c. In which factor does the MLFM have the largest loading? (See a slide in Exhibit 1.)\n",
    "\n",
    "d. What are the main concerns you have for how the MLFM attempts to replicate the HFRI?"
   ]
  },
  {
   "cell_type": "markdown",
   "id": "7c3a64b0",
   "metadata": {},
   "source": [
    "The HFRI is a broad-based index designed to capture the overall performance trends of hedge funds across all strategies and regions, similar to how the S&P 500 tracks large-cap U.S. equities. It serves as a benchmark for the hedge fund industry but is not directly tradable. The MLFM is a quantitative model that attempts to replicate the performance of the HFRI through linear factor decomposition. It uses various market factors (like stock indexes, currency rates, etc.) to model hedge fund returns. The assets used in the MLFM are not directly tradable, making it a theoretical model rather than a practical investment tool. The MLFM-ES adapts the original MLFM by substituting its components with tradable securities. This version of the model is still an index and tracks the theoretical performance of the MLFM but uses components that are available in the market, making it more applicable for practical investment products.HDG is an ETF that tracks the MLFM-ES, providing a tradable product that aims to replicate hedge fund market exposures and returns. By investing in HDG, individuals can gain exposure to hedge fund-like strategies without the high minimum investments, complex fee structures, and lack of liquidity associated with traditional hedge fund investments.\n",
    "\n",
    "The MLFM, which is designed to track the MFRI closely, performed well with a 90% correlation coefficient. However, it still has tracking error.\n",
    "\n",
    "The largest loading in the MLFM is on 3-Month T-bills, which on average account for about 60-70% of the portfolio.o.\n",
    "\n",
    "The MLFM is designed to closely track the HFRI and has performed well, achieving a 90% correlation coefficient. However, it does experience some tracking error.\n",
    "\n",
    "The MLFM attempts to replicate the HFRI using liquid assets such as stocks and bonds. Thus, the six factors used in its construction represent returns of traditional betas. It does not capture other important sources of returns from alternative betas such as credit spreads, carry returns, volatility, and illiquidity. Additionally, it is backward-looking, meaning there is a lag in adjusting to changes in hedge fund styles, which can lead to discrepancies in replication accuracy over time. MLFM uses historical data to set weights and assumes that historical correlations will persist in the future. This backward-looking approach may not accurately predict future market conditions or hedge fund performance."
   ]
  },
  {
   "cell_type": "markdown",
   "id": "8247c669",
   "metadata": {},
   "source": [
    "## 4. The HDG Product\n",
    "\n",
    "a. What does ProShares ETF, HDG, attempt to track? Is the tracking error small?\n",
    "\n",
    "b. HDG is, by construction, delivering beta for investors. Isn't the point of hedge funds to generate alpha? Then why would HDG be valuable?\n",
    "\n",
    "c. The fees of a typical hedge-fund are 2% on total assets plus 20% of excess returns if positive. HDG's expense ratio is roughly 1% on total assets. What would their respective net Sharpe Ratios be, assuming both have a gross excess returns of 10% and volatility of 20%?"
   ]
  },
  {
   "cell_type": "markdown",
   "id": "668eba33",
   "metadata": {},
   "source": [
    "HDG attemots to track the MLFM-ES index. It has an over 0.99 average daily statistical correlation to the daily performance of the benchmark. Cost Efficiency: Swaps and futures often allow funds to gain exposure to a specific asset or index without the need to buy the underlying securities directly. This can reduce transaction costs, particularly when adjusting positions frequently, as required in dynamic strategies like those tracking the MLFM-ES. ProShares ETF, HDG, attempts to track the Merrill Lynch Factor Model-Exchange Series (MLFM-ES), which is designed to replicate the risk and return characteristics of hedge funds as measured by the HFRI. The MLFM-ES uses tradable securities to model the returns of hedge funds, making it suitable for an ETF format. The tracking error between HDG and its target MLFM-ES has historically been small, indicating a high correlation and effectiveness in replicating the underlying model. The MLFM-ES itself has shown nearly perfect correlation with the original Merrill Lynch Factor Model since its inception, maintaining a correlation of 99.7%.\n",
    "\n",
    "Liquidity: Swaps and futures provide a more liquid means of gaining exposure to various asset classes, including those that might not be easily tradable in the spot market. For example, taking short positions in illiquid or hard-to-borrow securities can be challenging and expensive, whereas swaps or futures can simplify this process.\n",
    "\n",
    "Leverage and Flexibility: Using derivatives like swaps and futures allows the fund to easily adjust leverage and take both long and short positions on the underlying factors. This flexibility is key for strategies aiming to replicate hedge fund performance, which often requires hedging or speculative positioning.\n",
    "\n",
    "Hedging and Diversification: Derivatives like swaps and futures provide an effective means to hedge specific market risks or to replicate the returns of complex strategies. This allows the fund to mirror the factor exposures of the MLFM-ES without needing to directly short assets, which might be operationally difficult or carry additional risk.\n",
    "\n",
    "Synthetic Exposure: Swaps provide synthetic exposure to indices or specific assets, which means the fund does not need to hold the physical assets, avoiding the complications that come with direct ownership or shorting. This is especially useful when replicating a diversified set of factors, as in the MLFM-ES, where holding or shorting all underlying assets might be impractical."
   ]
  },
  {
   "cell_type": "markdown",
   "id": "4001c022",
   "metadata": {},
   "source": [
    "HDG replicates the risk return characteristics of Hedge funds through readily available, liquid, marketable securities or derivatives. Although by construction it is aimed to deliver close correlations (beta) to an index, it is valuable as it still provides favorable risk-adjusted returns through addition to the porfolio. While it's true that the primary allure of hedge funds is their potential to generate alpha—returns above a benchmark—HDG offers a different value proposition. HDG aims to deliver hedge fund beta, which means it provides the broader risk-return characteristics associated with hedge funds without necessarily targeting alpha generation. Here are several reasons why HDG could still be valuable:\n",
    "\n",
    "Accessibility and Affordability: HDG lowers the barrier to entry for investors by eliminating the need for large minimum investments and providing liquidity that traditional hedge funds typically do not offer.\n",
    "Cost Efficiency: With a lower expense ratio compared to traditional hedge funds, HDG offers a more cost-effective way to gain exposure to hedge fund-like strategies.\n",
    "Diversification: By replicating hedge fund beta, HDG can offer portfolio diversification benefits, helping to reduce overall portfolio volatility and providing exposure to different risk factors than traditional stocks and bonds.\n",
    "Simplified Tax and Regulatory Compliance: HDG, structured as an ETF, simplifies tax reporting and adheres to regulatory standards that may appeal to certain investors."
   ]
  },
  {
   "cell_type": "markdown",
   "id": "6814f04f",
   "metadata": {},
   "source": [
    "## Calculation of Net Sharpe Ratios\n",
    "\n",
    "To calculate the Sharpe Ratios, we use the formula:\n",
    "\n",
    "$$\n",
    "\\text{Sharpe Ratio} = \\frac{R_p - R_f}{\\sigma_p}\n",
    "$$\n",
    "\n",
    "Where:\n",
    "\n",
    "- $R_p$ = Expected portfolio return\n",
    "- $R_f$ = Risk-free rate\n",
    "- $\\sigma_p$ = Standard deviation of the portfolio’s excess returns\n",
    "\n",
    "### Assumptions:\n",
    "\n",
    "- Gross excess return of both HDG and a typical hedge fund: 10%\n",
    "- Volatility (standard deviation of returns) for both: 20%\n",
    "- Risk-free rate (for simplicity): 0% (common in theoretical calculations)\n",
    "\n",
    "### Hedge Fund:\n",
    "\n",
    "- Fees: 2% management fee + 20% of gains\n",
    "- Net return = 10% - 2% - 20% of (10% - 2%) = 8% - 1.6% = 6.4%\n",
    "\n",
    "$$\n",
    "\\text{Sharpe Ratio (Hedge Fund)} = \\frac{6.4\\%}{20\\%} = 0.32\n",
    "$$\n",
    "\n",
    "### HDG:\n",
    "\n",
    "- Expense ratio: 1%\n",
    "- Net return = 10% - 1% = 9%\n",
    "\n",
    "$$\n",
    "\\text{Sharpe Ratio (HDG)} = \\frac{9\\%}{20\\%} = 0.45\n",
    "$$\n",
    "\n",
    "Comparatively, HDG shows a higher Sharpe Ratio, suggesting a better risk-adjusted return profile than the typical hedge fund structure, primarily due to lower costs impacting returns. This demonstrates HDG's potential value despite its focus on delivering beta rather than alpha.\n"
   ]
  },
  {
   "cell_type": "markdown",
   "id": "ecd7e292",
   "metadata": {},
   "source": [
    "***"
   ]
  },
  {
   "cell_type": "markdown",
   "id": "fbbf79a1",
   "metadata": {},
   "source": [
    "# 2.  Analyzing the Data\n",
    "\n",
    "Use the data found on Canvas, in <b>'proshares analysis data.xlsx'</b>. \n",
    "\n",
    "It has monthly data on financial indexes and ETFs from `Aug 2011` through `Sep 2024`."
   ]
  },
  {
   "cell_type": "code",
   "execution_count": 1,
   "id": "a743bdcc",
   "metadata": {},
   "outputs": [],
   "source": [
    "import numpy as np\n",
    "import os\n",
    "import pandas as pd\n",
    "import polars as pl\n",
    "from matplotlib import pyplot as plt\n"
   ]
  },
  {
   "cell_type": "code",
   "execution_count": 2,
   "id": "ae0b15d7",
   "metadata": {},
   "outputs": [],
   "source": [
    "# loading data\n",
    "def load_data(filename=\"proshares_analysis_data.xlsx\", directory=\"../data\" ,sheet_name=\"hedge_fund_series\"):\n",
    "    file_path = os.path.join(directory, filename)\n",
    "    if os.path.exists(file_path):\n",
    "        data = pd.read_excel(file_path, sheet_name=sheet_name,index_col=0,parse_dates=True)\n",
    "        return data\n",
    "    else:\n",
    "        print(\"File not found.\")\n",
    "        return None\n",
    "data =load_data()"
   ]
  },
  {
   "cell_type": "code",
   "execution_count": 3,
   "id": "3694e39a",
   "metadata": {},
   "outputs": [
    {
     "data": {
      "text/html": [
       "<div>\n",
       "<style scoped>\n",
       "    .dataframe tbody tr th:only-of-type {\n",
       "        vertical-align: middle;\n",
       "    }\n",
       "\n",
       "    .dataframe tbody tr th {\n",
       "        vertical-align: top;\n",
       "    }\n",
       "\n",
       "    .dataframe thead th {\n",
       "        text-align: right;\n",
       "    }\n",
       "</style>\n",
       "<table border=\"1\" class=\"dataframe\">\n",
       "  <thead>\n",
       "    <tr style=\"text-align: right;\">\n",
       "      <th></th>\n",
       "      <th>HFRIFWI Index</th>\n",
       "      <th>MLEIFCTR Index</th>\n",
       "      <th>MLEIFCTX Index</th>\n",
       "      <th>HDG US Equity</th>\n",
       "      <th>QAI US Equity</th>\n",
       "    </tr>\n",
       "  </thead>\n",
       "  <tbody>\n",
       "    <tr>\n",
       "      <th>2011-08-31</th>\n",
       "      <td>-0.032149</td>\n",
       "      <td>-0.025588</td>\n",
       "      <td>-0.025689</td>\n",
       "      <td>-0.027036</td>\n",
       "      <td>-0.006489</td>\n",
       "    </tr>\n",
       "    <tr>\n",
       "      <th>2011-09-30</th>\n",
       "      <td>-0.038903</td>\n",
       "      <td>-0.032414</td>\n",
       "      <td>-0.032593</td>\n",
       "      <td>-0.032466</td>\n",
       "      <td>-0.022141</td>\n",
       "    </tr>\n",
       "    <tr>\n",
       "      <th>2011-10-31</th>\n",
       "      <td>0.026858</td>\n",
       "      <td>0.043593</td>\n",
       "      <td>0.043320</td>\n",
       "      <td>0.050531</td>\n",
       "      <td>0.025239</td>\n",
       "    </tr>\n",
       "    <tr>\n",
       "      <th>2011-11-30</th>\n",
       "      <td>-0.013453</td>\n",
       "      <td>-0.012142</td>\n",
       "      <td>-0.012431</td>\n",
       "      <td>-0.028608</td>\n",
       "      <td>-0.007964</td>\n",
       "    </tr>\n",
       "    <tr>\n",
       "      <th>2011-12-31</th>\n",
       "      <td>-0.004479</td>\n",
       "      <td>0.001938</td>\n",
       "      <td>0.001796</td>\n",
       "      <td>0.012875</td>\n",
       "      <td>0.001822</td>\n",
       "    </tr>\n",
       "  </tbody>\n",
       "</table>\n",
       "</div>"
      ],
      "text/plain": [
       "            HFRIFWI Index  MLEIFCTR Index  MLEIFCTX Index  HDG US Equity  \\\n",
       "2011-08-31      -0.032149       -0.025588       -0.025689      -0.027036   \n",
       "2011-09-30      -0.038903       -0.032414       -0.032593      -0.032466   \n",
       "2011-10-31       0.026858        0.043593        0.043320       0.050531   \n",
       "2011-11-30      -0.013453       -0.012142       -0.012431      -0.028608   \n",
       "2011-12-31      -0.004479        0.001938        0.001796       0.012875   \n",
       "\n",
       "            QAI US Equity  \n",
       "2011-08-31      -0.006489  \n",
       "2011-09-30      -0.022141  \n",
       "2011-10-31       0.025239  \n",
       "2011-11-30      -0.007964  \n",
       "2011-12-31       0.001822  "
      ]
     },
     "execution_count": 3,
     "metadata": {},
     "output_type": "execute_result"
    }
   ],
   "source": [
    "data.head()"
   ]
  },
  {
   "cell_type": "markdown",
   "id": "22b7389c",
   "metadata": {},
   "source": [
    "## 1. \n",
    "\n",
    "For the series in the \"hedge fund series\" tab, report the following summary statistics:\n",
    "* mean\n",
    "* volatility\n",
    "* Sharpe ratio\n",
    "\n",
    "Annualize these statistics."
   ]
  },
  {
   "cell_type": "code",
   "execution_count": 4,
   "id": "33e3ca29",
   "metadata": {},
   "outputs": [
    {
     "name": "stdout",
     "output_type": "stream",
     "text": [
      "c:\\Users\\Andik\\OneDrive\\Desktop\\Chicago\\Portfolio theory and risk management\\githubrepo\\finm-portfolio-2024\n"
     ]
    }
   ],
   "source": [
    "import numpy as np\n",
    "import pandas as pd\n",
    "import os\n",
    "import sys\n",
    "import matplotlib.pyplot as plt\n",
    "notebook_dir = \"practice\"\n",
    "if os.path.basename(os.getcwd()) == notebook_dir:\n",
    "    os.chdir(os.pardir)  # Change to parent directory\n",
    "    sys.path.append(os.getcwd())  # Add the new current directory to sys.path\n",
    "\n",
    "import cmds.portfolio_management_helper as pmh\n",
    "import functions.functions_andy as fa\n",
    "print(os.getcwd())"
   ]
  },
  {
   "cell_type": "code",
   "execution_count": 5,
   "id": "f4c6bdc3",
   "metadata": {},
   "outputs": [
    {
     "name": "stdout",
     "output_type": "stream",
     "text": [
      "Date              datetime64[ns]\n",
      "HFRIFWI Index            float64\n",
      "MLEIFCTR Index           float64\n",
      "MLEIFCTX Index           float64\n",
      "HDG US Equity            float64\n",
      "QAI US Equity            float64\n",
      "dtype: object\n"
     ]
    }
   ],
   "source": [
    "data = fa.load_data(filename = \"proshares_analysis_data.xlsx\", path = \"./data\", sheet_name = \"hedge_fund_series\")\n",
    "data.rename(columns = {\"Unnamed: 0\":\"Date\"}, inplace = True)\n",
    "print(data.dtypes)\n",
    "data.set_index(\"Date\", inplace = True)"
   ]
  },
  {
   "cell_type": "code",
   "execution_count": 6,
   "id": "d14757b7",
   "metadata": {},
   "outputs": [
    {
     "data": {
      "text/html": [
       "<div>\n",
       "<style scoped>\n",
       "    .dataframe tbody tr th:only-of-type {\n",
       "        vertical-align: middle;\n",
       "    }\n",
       "\n",
       "    .dataframe tbody tr th {\n",
       "        vertical-align: top;\n",
       "    }\n",
       "\n",
       "    .dataframe thead th {\n",
       "        text-align: right;\n",
       "    }\n",
       "</style>\n",
       "<table border=\"1\" class=\"dataframe\">\n",
       "  <thead>\n",
       "    <tr style=\"text-align: right;\">\n",
       "      <th></th>\n",
       "      <th>Mean</th>\n",
       "      <th>Vol</th>\n",
       "      <th>Sharpe</th>\n",
       "    </tr>\n",
       "  </thead>\n",
       "  <tbody>\n",
       "    <tr>\n",
       "      <th>HFRIFWI Index</th>\n",
       "      <td>0.0483</td>\n",
       "      <td>0.0595</td>\n",
       "      <td>0.8120</td>\n",
       "    </tr>\n",
       "    <tr>\n",
       "      <th>MLEIFCTR Index</th>\n",
       "      <td>0.0363</td>\n",
       "      <td>0.0561</td>\n",
       "      <td>0.6464</td>\n",
       "    </tr>\n",
       "    <tr>\n",
       "      <th>MLEIFCTX Index</th>\n",
       "      <td>0.0346</td>\n",
       "      <td>0.0560</td>\n",
       "      <td>0.6182</td>\n",
       "    </tr>\n",
       "    <tr>\n",
       "      <th>HDG US Equity</th>\n",
       "      <td>0.0248</td>\n",
       "      <td>0.0584</td>\n",
       "      <td>0.4248</td>\n",
       "    </tr>\n",
       "    <tr>\n",
       "      <th>QAI US Equity</th>\n",
       "      <td>0.0257</td>\n",
       "      <td>0.0500</td>\n",
       "      <td>0.5130</td>\n",
       "    </tr>\n",
       "  </tbody>\n",
       "</table>\n",
       "</div>"
      ],
      "text/plain": [
       "                 Mean    Vol  Sharpe\n",
       "HFRIFWI Index  0.0483 0.0595  0.8120\n",
       "MLEIFCTR Index 0.0363 0.0561  0.6464\n",
       "MLEIFCTX Index 0.0346 0.0560  0.6182\n",
       "HDG US Equity  0.0248 0.0584  0.4248\n",
       "QAI US Equity  0.0257 0.0500  0.5130"
      ]
     },
     "metadata": {},
     "output_type": "display_data"
    },
    {
     "data": {
      "text/html": [
       "<div>\n",
       "<style scoped>\n",
       "    .dataframe tbody tr th:only-of-type {\n",
       "        vertical-align: middle;\n",
       "    }\n",
       "\n",
       "    .dataframe tbody tr th {\n",
       "        vertical-align: top;\n",
       "    }\n",
       "\n",
       "    .dataframe thead th {\n",
       "        text-align: right;\n",
       "    }\n",
       "</style>\n",
       "<table border=\"1\" class=\"dataframe\">\n",
       "  <thead>\n",
       "    <tr style=\"text-align: right;\">\n",
       "      <th></th>\n",
       "      <th>Annualized Mean</th>\n",
       "      <th>Annualized Vol</th>\n",
       "      <th>Annualized Sharpe</th>\n",
       "    </tr>\n",
       "  </thead>\n",
       "  <tbody>\n",
       "    <tr>\n",
       "      <th>HFRIFWI Index</th>\n",
       "      <td>0.0483</td>\n",
       "      <td>0.0595</td>\n",
       "      <td>0.8120</td>\n",
       "    </tr>\n",
       "    <tr>\n",
       "      <th>MLEIFCTR Index</th>\n",
       "      <td>0.0363</td>\n",
       "      <td>0.0561</td>\n",
       "      <td>0.6464</td>\n",
       "    </tr>\n",
       "    <tr>\n",
       "      <th>MLEIFCTX Index</th>\n",
       "      <td>0.0346</td>\n",
       "      <td>0.0560</td>\n",
       "      <td>0.6182</td>\n",
       "    </tr>\n",
       "    <tr>\n",
       "      <th>QAI US Equity</th>\n",
       "      <td>0.0257</td>\n",
       "      <td>0.0500</td>\n",
       "      <td>0.5130</td>\n",
       "    </tr>\n",
       "    <tr>\n",
       "      <th>HDG US Equity</th>\n",
       "      <td>0.0248</td>\n",
       "      <td>0.0584</td>\n",
       "      <td>0.4248</td>\n",
       "    </tr>\n",
       "  </tbody>\n",
       "</table>\n",
       "</div>"
      ],
      "text/plain": [
       "                Annualized Mean  Annualized Vol  Annualized Sharpe\n",
       "HFRIFWI Index            0.0483          0.0595             0.8120\n",
       "MLEIFCTR Index           0.0363          0.0561             0.6464\n",
       "MLEIFCTX Index           0.0346          0.0560             0.6182\n",
       "QAI US Equity            0.0257          0.0500             0.5130\n",
       "HDG US Equity            0.0248          0.0584             0.4248"
      ]
     },
     "execution_count": 6,
     "metadata": {},
     "output_type": "execute_result"
    }
   ],
   "source": [
    "summary_stats = fa.calculate_summary_statistics(data, \n",
    "                                annual_factor = 12)\n",
    "display(summary_stats)\n",
    "fa.calculate_summary_statistics(data, annual_factor = 12,use_pmh=True).loc[:,[\"Annualized Mean\",\"Annualized Vol\",\"Annualized Sharpe\"]]\n"
   ]
  },
  {
   "cell_type": "code",
   "execution_count": 7,
   "id": "9c257c06",
   "metadata": {},
   "outputs": [
    {
     "data": {
      "text/html": [
       "<div>\n",
       "<style scoped>\n",
       "    .dataframe tbody tr th:only-of-type {\n",
       "        vertical-align: middle;\n",
       "    }\n",
       "\n",
       "    .dataframe tbody tr th {\n",
       "        vertical-align: top;\n",
       "    }\n",
       "\n",
       "    .dataframe thead th {\n",
       "        text-align: right;\n",
       "    }\n",
       "</style>\n",
       "<table border=\"1\" class=\"dataframe\">\n",
       "  <thead>\n",
       "    <tr style=\"text-align: right;\">\n",
       "      <th></th>\n",
       "      <th>HFRIFWI Index</th>\n",
       "      <th>MLEIFCTR Index</th>\n",
       "      <th>MLEIFCTX Index</th>\n",
       "      <th>HDG US Equity</th>\n",
       "      <th>QAI US Equity</th>\n",
       "    </tr>\n",
       "  </thead>\n",
       "  <tbody>\n",
       "    <tr>\n",
       "      <th>Min</th>\n",
       "      <td>-0.0908</td>\n",
       "      <td>-0.0532</td>\n",
       "      <td>-0.0524</td>\n",
       "      <td>-0.0592</td>\n",
       "      <td>-0.0563</td>\n",
       "    </tr>\n",
       "    <tr>\n",
       "      <th>Max</th>\n",
       "      <td>0.0586</td>\n",
       "      <td>0.0589</td>\n",
       "      <td>0.0588</td>\n",
       "      <td>0.0583</td>\n",
       "      <td>0.0398</td>\n",
       "    </tr>\n",
       "    <tr>\n",
       "      <th>Skewness</th>\n",
       "      <td>-0.9633</td>\n",
       "      <td>-0.2654</td>\n",
       "      <td>-0.2513</td>\n",
       "      <td>-0.2542</td>\n",
       "      <td>-0.4348</td>\n",
       "    </tr>\n",
       "    <tr>\n",
       "      <th>Excess Kurtosis</th>\n",
       "      <td>5.7631</td>\n",
       "      <td>1.6316</td>\n",
       "      <td>1.5959</td>\n",
       "      <td>1.7593</td>\n",
       "      <td>1.6059</td>\n",
       "    </tr>\n",
       "    <tr>\n",
       "      <th>Historical VaR (5.00%)</th>\n",
       "      <td>-0.0243</td>\n",
       "      <td>-0.0282</td>\n",
       "      <td>-0.0281</td>\n",
       "      <td>-0.0309</td>\n",
       "      <td>-0.0179</td>\n",
       "    </tr>\n",
       "    <tr>\n",
       "      <th>Annualized Historical VaR (5.00%)</th>\n",
       "      <td>-0.0842</td>\n",
       "      <td>-0.0977</td>\n",
       "      <td>-0.0973</td>\n",
       "      <td>-0.1072</td>\n",
       "      <td>-0.0620</td>\n",
       "    </tr>\n",
       "    <tr>\n",
       "      <th>Historical CVaR (5.00%)</th>\n",
       "      <td>-0.0375</td>\n",
       "      <td>-0.0359</td>\n",
       "      <td>-0.0358</td>\n",
       "      <td>-0.0376</td>\n",
       "      <td>-0.0327</td>\n",
       "    </tr>\n",
       "    <tr>\n",
       "      <th>Annualized Historical CVaR (5.00%)</th>\n",
       "      <td>-0.1298</td>\n",
       "      <td>-0.1242</td>\n",
       "      <td>-0.1241</td>\n",
       "      <td>-0.1302</td>\n",
       "      <td>-0.1133</td>\n",
       "    </tr>\n",
       "    <tr>\n",
       "      <th>Max Drawdown</th>\n",
       "      <td>-0.1155</td>\n",
       "      <td>-0.1243</td>\n",
       "      <td>-0.1244</td>\n",
       "      <td>-0.1407</td>\n",
       "      <td>-0.1377</td>\n",
       "    </tr>\n",
       "    <tr>\n",
       "      <th>Peak</th>\n",
       "      <td>2019-12-31 00:00:00</td>\n",
       "      <td>2021-06-30 00:00:00</td>\n",
       "      <td>2021-06-30 00:00:00</td>\n",
       "      <td>2021-06-30 00:00:00</td>\n",
       "      <td>2021-06-30 00:00:00</td>\n",
       "    </tr>\n",
       "    <tr>\n",
       "      <th>Bottom</th>\n",
       "      <td>2020-03-31 00:00:00</td>\n",
       "      <td>2022-09-30 00:00:00</td>\n",
       "      <td>2022-09-30 00:00:00</td>\n",
       "      <td>2022-09-30 00:00:00</td>\n",
       "      <td>2022-09-30 00:00:00</td>\n",
       "    </tr>\n",
       "    <tr>\n",
       "      <th>Recovery</th>\n",
       "      <td>2020-08-31 00:00:00</td>\n",
       "      <td>2024-02-29 00:00:00</td>\n",
       "      <td>2024-02-29 00:00:00</td>\n",
       "      <td>2024-07-31 00:00:00</td>\n",
       "      <td>2024-02-29 00:00:00</td>\n",
       "    </tr>\n",
       "    <tr>\n",
       "      <th>Duration (days)</th>\n",
       "      <td>153</td>\n",
       "      <td>517</td>\n",
       "      <td>517</td>\n",
       "      <td>670</td>\n",
       "      <td>517</td>\n",
       "    </tr>\n",
       "  </tbody>\n",
       "</table>\n",
       "</div>"
      ],
      "text/plain": [
       "                                          HFRIFWI Index       MLEIFCTR Index  \\\n",
       "Min                                             -0.0908              -0.0532   \n",
       "Max                                              0.0586               0.0589   \n",
       "Skewness                                        -0.9633              -0.2654   \n",
       "Excess Kurtosis                                  5.7631               1.6316   \n",
       "Historical VaR (5.00%)                          -0.0243              -0.0282   \n",
       "Annualized Historical VaR (5.00%)               -0.0842              -0.0977   \n",
       "Historical CVaR (5.00%)                         -0.0375              -0.0359   \n",
       "Annualized Historical CVaR (5.00%)              -0.1298              -0.1242   \n",
       "Max Drawdown                                    -0.1155              -0.1243   \n",
       "Peak                                2019-12-31 00:00:00  2021-06-30 00:00:00   \n",
       "Bottom                              2020-03-31 00:00:00  2022-09-30 00:00:00   \n",
       "Recovery                            2020-08-31 00:00:00  2024-02-29 00:00:00   \n",
       "Duration (days)                                     153                  517   \n",
       "\n",
       "                                         MLEIFCTX Index        HDG US Equity  \\\n",
       "Min                                             -0.0524              -0.0592   \n",
       "Max                                              0.0588               0.0583   \n",
       "Skewness                                        -0.2513              -0.2542   \n",
       "Excess Kurtosis                                  1.5959               1.7593   \n",
       "Historical VaR (5.00%)                          -0.0281              -0.0309   \n",
       "Annualized Historical VaR (5.00%)               -0.0973              -0.1072   \n",
       "Historical CVaR (5.00%)                         -0.0358              -0.0376   \n",
       "Annualized Historical CVaR (5.00%)              -0.1241              -0.1302   \n",
       "Max Drawdown                                    -0.1244              -0.1407   \n",
       "Peak                                2021-06-30 00:00:00  2021-06-30 00:00:00   \n",
       "Bottom                              2022-09-30 00:00:00  2022-09-30 00:00:00   \n",
       "Recovery                            2024-02-29 00:00:00  2024-07-31 00:00:00   \n",
       "Duration (days)                                     517                  670   \n",
       "\n",
       "                                          QAI US Equity  \n",
       "Min                                             -0.0563  \n",
       "Max                                              0.0398  \n",
       "Skewness                                        -0.4348  \n",
       "Excess Kurtosis                                  1.6059  \n",
       "Historical VaR (5.00%)                          -0.0179  \n",
       "Annualized Historical VaR (5.00%)               -0.0620  \n",
       "Historical CVaR (5.00%)                         -0.0327  \n",
       "Annualized Historical CVaR (5.00%)              -0.1133  \n",
       "Max Drawdown                                    -0.1377  \n",
       "Peak                                2021-06-30 00:00:00  \n",
       "Bottom                              2022-09-30 00:00:00  \n",
       "Recovery                            2024-02-29 00:00:00  \n",
       "Duration (days)                                     517  "
      ]
     },
     "execution_count": 7,
     "metadata": {},
     "output_type": "execute_result"
    }
   ],
   "source": [
    "pmh.calc_summary_statistics(data, annual_factor=12,\n",
    "                            provided_excess_returns=True,\n",
    "                            var_quantile=0.05,use_pandas_skew_kurt=True).loc[:,['Min', 'Max', 'Skewness', 'Excess Kurtosis',\n",
    "       'Historical VaR (5.00%)', 'Annualized Historical VaR (5.00%)',\n",
    "       'Historical CVaR (5.00%)', 'Annualized Historical CVaR (5.00%)',\n",
    "       'Max Drawdown', 'Peak', 'Bottom', 'Recovery','Duration (days)']].T\n",
    "                            \n",
    "    \n",
    "         "
   ]
  },
  {
   "cell_type": "code",
   "execution_count": 8,
   "id": "8806d14e",
   "metadata": {},
   "outputs": [
    {
     "data": {
      "text/html": [
       "<div>\n",
       "<style scoped>\n",
       "    .dataframe tbody tr th:only-of-type {\n",
       "        vertical-align: middle;\n",
       "    }\n",
       "\n",
       "    .dataframe tbody tr th {\n",
       "        vertical-align: top;\n",
       "    }\n",
       "\n",
       "    .dataframe thead th {\n",
       "        text-align: right;\n",
       "    }\n",
       "</style>\n",
       "<table border=\"1\" class=\"dataframe\">\n",
       "  <thead>\n",
       "    <tr style=\"text-align: right;\">\n",
       "      <th></th>\n",
       "      <th>Mean_annualised</th>\n",
       "      <th>Standard_Deviation_annualised</th>\n",
       "      <th>Sharpe_Ratio</th>\n",
       "    </tr>\n",
       "  </thead>\n",
       "  <tbody>\n",
       "    <tr>\n",
       "      <th>HFRIFWI Index</th>\n",
       "      <td>0.0483</td>\n",
       "      <td>0.0595</td>\n",
       "      <td>0.2344</td>\n",
       "    </tr>\n",
       "    <tr>\n",
       "      <th>MLEIFCTR Index</th>\n",
       "      <td>0.0363</td>\n",
       "      <td>0.0561</td>\n",
       "      <td>0.1866</td>\n",
       "    </tr>\n",
       "    <tr>\n",
       "      <th>MLEIFCTX Index</th>\n",
       "      <td>0.0346</td>\n",
       "      <td>0.0560</td>\n",
       "      <td>0.1785</td>\n",
       "    </tr>\n",
       "    <tr>\n",
       "      <th>HDG US Equity</th>\n",
       "      <td>0.0248</td>\n",
       "      <td>0.0584</td>\n",
       "      <td>0.1226</td>\n",
       "    </tr>\n",
       "    <tr>\n",
       "      <th>QAI US Equity</th>\n",
       "      <td>0.0257</td>\n",
       "      <td>0.0500</td>\n",
       "      <td>0.1481</td>\n",
       "    </tr>\n",
       "  </tbody>\n",
       "</table>\n",
       "</div>"
      ],
      "text/plain": [
       "                Mean_annualised  Standard_Deviation_annualised  Sharpe_Ratio\n",
       "HFRIFWI Index            0.0483                         0.0595        0.2344\n",
       "MLEIFCTR Index           0.0363                         0.0561        0.1866\n",
       "MLEIFCTX Index           0.0346                         0.0560        0.1785\n",
       "HDG US Equity            0.0248                         0.0584        0.1226\n",
       "QAI US Equity            0.0257                         0.0500        0.1481"
      ]
     },
     "metadata": {},
     "output_type": "display_data"
    }
   ],
   "source": [
    "def get_stats(data):\n",
    "    data_mean = data.mean().to_frame(name=\"Mean_annualised\")\n",
    "    data_std = data.std().to_frame(name=\"Standard_Deviation_annualised\")\n",
    "    data_stats = pd.concat([data_mean, data_std], axis = 1)\n",
    "    data_stats[\"Sharpe_Ratio\"] = data_stats[\"Mean_annualised\"] / data_stats[\"Standard_Deviation_annualised\"]\n",
    "    data_stats.eval('''Mean_annualised = Mean_annualised * 12\n",
    "                    Standard_Deviation_annualised = Standard_Deviation_annualised * 12**0.5''', inplace=True)\n",
    "    return data_stats\n",
    "\n",
    "data_stats = get_stats(data)\n",
    "\n",
    "display(data_stats)"
   ]
  },
  {
   "cell_type": "markdown",
   "id": "ec8d7c08",
   "metadata": {},
   "source": [
    "## 2.\n",
    "\n",
    "For the series in the \"hedge fund series\" tab, calculate the following statistics related to tail-risk.\n",
    "* Skewness\n",
    "* Excess Kurtosis (in excess of 3)\n",
    "* VaR (.05) - the fifth quantile of historic returns\n",
    "* CVaR (.05) - the mean of the returns at or below the fifth quantile\n",
    "* Maximum drawdown - include the dates of the max/min/recovery within the max drawdown period.\n",
    "\n",
    "There is no need to annualize any of these statistics."
   ]
  },
  {
   "cell_type": "code",
   "execution_count": 9,
   "id": "8ec795b3",
   "metadata": {},
   "outputs": [
    {
     "data": {
      "text/plain": [
       "HFRIFWI Index    2020-03-31\n",
       "MLEIFCTR Index   2022-09-30\n",
       "MLEIFCTX Index   2022-09-30\n",
       "HDG US Equity    2022-09-30\n",
       "QAI US Equity    2022-09-30\n",
       "dtype: datetime64[ns]"
      ]
     },
     "metadata": {},
     "output_type": "display_data"
    },
    {
     "name": "stdout",
     "output_type": "stream",
     "text": [
      "Skewness:\n",
      " HFRIFWI Index    -0.9511\n",
      "MLEIFCTR Index   -0.2620\n",
      "MLEIFCTX Index   -0.2481\n",
      "HDG US Equity    -0.2510\n",
      "QAI US Equity    -0.4293\n",
      "dtype: float64\n",
      "Excess Kurtosis:\n",
      " HFRIFWI Index    5.4905\n",
      "MLEIFCTR Index   1.5139\n",
      "MLEIFCTX Index   1.4795\n",
      "HDG US Equity    1.6368\n",
      "QAI US Equity    1.4892\n",
      "dtype: float64\n",
      "Maximum Drawdown:\n",
      " HFRIFWI Index    -0.1155\n",
      "MLEIFCTR Index   -0.1243\n",
      "MLEIFCTX Index   -0.1244\n",
      "HDG US Equity    -0.1407\n",
      "QAI US Equity    -0.1377\n",
      "dtype: float64\n",
      "Peak Dates:\n",
      " [Timestamp('2019-12-31 00:00:00'), Timestamp('2021-06-30 00:00:00'), Timestamp('2021-06-30 00:00:00'), Timestamp('2021-06-30 00:00:00'), Timestamp('2021-06-30 00:00:00')]\n",
      "Lowest (Drawdown Low) Dates:\n",
      " HFRIFWI Index    2020-03-31\n",
      "MLEIFCTR Index   2022-09-30\n",
      "MLEIFCTX Index   2022-09-30\n",
      "HDG US Equity    2022-09-30\n",
      "QAI US Equity    2022-09-30\n",
      "dtype: datetime64[ns]\n",
      "Recovery Dates:\n",
      " [Timestamp('2020-08-31 00:00:00'), Timestamp('2024-02-29 00:00:00'), Timestamp('2024-02-29 00:00:00'), Timestamp('2024-07-31 00:00:00'), Timestamp('2024-02-29 00:00:00')]\n",
      "Days to Recovery:\n",
      " {'HFRIFWI Index': 153, 'MLEIFCTR Index': 517, 'MLEIFCTX Index': 517, 'HDG US Equity': 670, 'QAI US Equity': 517}\n"
     ]
    }
   ],
   "source": [
    "# Skewness\n",
    "skewness = ((data - data.mean())**3 / (data.std()**3 * (len(data)-1))).sum()\n",
    "kurtosis = ((data-data.mean())**4 / (data.std()**4 * (len(data)-1))).sum() - 3\n",
    "kurtosis\n",
    "var = data.quantile(0.05)\n",
    "cvar = data[data < var].mean()\n",
    "wealth_index = (1+data).cumprod()\n",
    "previous_peaks = wealth_index.cummax()\n",
    "drawdown = (wealth_index - previous_peaks) / previous_peaks\n",
    "max_drawdown = drawdown.min()\n",
    "display(drawdown.idxmin())\n",
    "previous_peaks\n",
    "peak = [previous_peaks.loc[:drawdown[col].idxmin(),col].idxmax() for col in data.columns]\n",
    "lowest = drawdown.idxmin()\n",
    "recovery_dates = []\n",
    "for col in data.columns:\n",
    "    # The last highest value before the maximum drawdown\n",
    "    max_peak_value = previous_peaks.loc[:drawdown[col].idxmin(), col].max()\n",
    "\n",
    "    # Subset data from the drawdown low point onward to check for recovery\n",
    "    post_drawdown_data = wealth_index.loc[drawdown[col].idxmin():, col]\n",
    "\n",
    "    # Identify the first date where the wealth index recovers to the previous peak\n",
    "    recovery_date = post_drawdown_data[post_drawdown_data >= max_peak_value].index.min()\n",
    "    recovery_dates.append(recovery_date)\n",
    "\n",
    "# Recovery Days Calculation\n",
    "recovery_days = {}\n",
    "for col, recovery_date in zip(data.columns, recovery_dates):\n",
    "    if recovery_date is not None:\n",
    "        # Count the number of days from the drawdown low to the recovery date\n",
    "        days_to_recover = (recovery_date - drawdown[col].idxmin()).days\n",
    "        recovery_days[col] = days_to_recover\n",
    "    else:\n",
    "        # If no recovery has occurred, assign a large number or a special value\n",
    "        recovery_days[col] = \"Not Recovered\"\n",
    "\n",
    "# Display Results\n",
    "print(\"Skewness:\\n\", skewness)\n",
    "print(\"Excess Kurtosis:\\n\", kurtosis)\n",
    "print(\"Maximum Drawdown:\\n\", max_drawdown)\n",
    "print(\"Peak Dates:\\n\", peak)\n",
    "print(\"Lowest (Drawdown Low) Dates:\\n\", lowest)\n",
    "print(\"Recovery Dates:\\n\", recovery_dates)\n",
    "print(\"Days to Recovery:\\n\", recovery_days)"
   ]
  },
  {
   "cell_type": "code",
   "execution_count": 10,
   "id": "cc585695",
   "metadata": {},
   "outputs": [
    {
     "name": "stdout",
     "output_type": "stream",
     "text": [
      "Summary Statistics\n",
      "\n",
      "\n"
     ]
    },
    {
     "data": {
      "text/html": [
       "<div>\n",
       "<style scoped>\n",
       "    .dataframe tbody tr th:only-of-type {\n",
       "        vertical-align: middle;\n",
       "    }\n",
       "\n",
       "    .dataframe tbody tr th {\n",
       "        vertical-align: top;\n",
       "    }\n",
       "\n",
       "    .dataframe thead th {\n",
       "        text-align: right;\n",
       "    }\n",
       "</style>\n",
       "<table border=\"1\" class=\"dataframe\">\n",
       "  <thead>\n",
       "    <tr style=\"text-align: right;\">\n",
       "      <th></th>\n",
       "      <th>VaR</th>\n",
       "      <th>CVaR</th>\n",
       "      <th>skew</th>\n",
       "      <th>kurtosis</th>\n",
       "    </tr>\n",
       "  </thead>\n",
       "  <tbody>\n",
       "    <tr>\n",
       "      <th>HFRIFWI Index</th>\n",
       "      <td>-0.0243</td>\n",
       "      <td>-0.0375</td>\n",
       "      <td>-0.9511</td>\n",
       "      <td>5.4905</td>\n",
       "    </tr>\n",
       "    <tr>\n",
       "      <th>MLEIFCTR Index</th>\n",
       "      <td>-0.0282</td>\n",
       "      <td>-0.0359</td>\n",
       "      <td>-0.2620</td>\n",
       "      <td>1.5139</td>\n",
       "    </tr>\n",
       "    <tr>\n",
       "      <th>MLEIFCTX Index</th>\n",
       "      <td>-0.0281</td>\n",
       "      <td>-0.0358</td>\n",
       "      <td>-0.2481</td>\n",
       "      <td>1.4795</td>\n",
       "    </tr>\n",
       "    <tr>\n",
       "      <th>HDG US Equity</th>\n",
       "      <td>-0.0309</td>\n",
       "      <td>-0.0376</td>\n",
       "      <td>-0.2510</td>\n",
       "      <td>1.6368</td>\n",
       "    </tr>\n",
       "    <tr>\n",
       "      <th>QAI US Equity</th>\n",
       "      <td>-0.0179</td>\n",
       "      <td>-0.0327</td>\n",
       "      <td>-0.4293</td>\n",
       "      <td>1.4892</td>\n",
       "    </tr>\n",
       "  </tbody>\n",
       "</table>\n",
       "</div>"
      ],
      "text/plain": [
       "                   VaR    CVaR    skew  kurtosis\n",
       "HFRIFWI Index  -0.0243 -0.0375 -0.9511    5.4905\n",
       "MLEIFCTR Index -0.0282 -0.0359 -0.2620    1.5139\n",
       "MLEIFCTX Index -0.0281 -0.0358 -0.2481    1.4795\n",
       "HDG US Equity  -0.0309 -0.0376 -0.2510    1.6368\n",
       "QAI US Equity  -0.0179 -0.0327 -0.4293    1.4892"
      ]
     },
     "metadata": {},
     "output_type": "display_data"
    },
    {
     "name": "stdout",
     "output_type": "stream",
     "text": [
      "Validation with pandas stats\n",
      "\n",
      "\n"
     ]
    },
    {
     "data": {
      "text/html": [
       "<div>\n",
       "<style scoped>\n",
       "    .dataframe tbody tr th:only-of-type {\n",
       "        vertical-align: middle;\n",
       "    }\n",
       "\n",
       "    .dataframe tbody tr th {\n",
       "        vertical-align: top;\n",
       "    }\n",
       "\n",
       "    .dataframe thead th {\n",
       "        text-align: right;\n",
       "    }\n",
       "</style>\n",
       "<table border=\"1\" class=\"dataframe\">\n",
       "  <thead>\n",
       "    <tr style=\"text-align: right;\">\n",
       "      <th></th>\n",
       "      <th>pandas_skew</th>\n",
       "    </tr>\n",
       "  </thead>\n",
       "  <tbody>\n",
       "    <tr>\n",
       "      <th>HFRIFWI Index</th>\n",
       "      <td>-0.9633</td>\n",
       "    </tr>\n",
       "    <tr>\n",
       "      <th>MLEIFCTR Index</th>\n",
       "      <td>-0.2654</td>\n",
       "    </tr>\n",
       "    <tr>\n",
       "      <th>MLEIFCTX Index</th>\n",
       "      <td>-0.2513</td>\n",
       "    </tr>\n",
       "    <tr>\n",
       "      <th>HDG US Equity</th>\n",
       "      <td>-0.2542</td>\n",
       "    </tr>\n",
       "    <tr>\n",
       "      <th>QAI US Equity</th>\n",
       "      <td>-0.4348</td>\n",
       "    </tr>\n",
       "  </tbody>\n",
       "</table>\n",
       "</div>"
      ],
      "text/plain": [
       "                pandas_skew\n",
       "HFRIFWI Index       -0.9633\n",
       "MLEIFCTR Index      -0.2654\n",
       "MLEIFCTX Index      -0.2513\n",
       "HDG US Equity       -0.2542\n",
       "QAI US Equity       -0.4348"
      ]
     },
     "metadata": {},
     "output_type": "display_data"
    },
    {
     "data": {
      "text/html": [
       "<div>\n",
       "<style scoped>\n",
       "    .dataframe tbody tr th:only-of-type {\n",
       "        vertical-align: middle;\n",
       "    }\n",
       "\n",
       "    .dataframe tbody tr th {\n",
       "        vertical-align: top;\n",
       "    }\n",
       "\n",
       "    .dataframe thead th {\n",
       "        text-align: right;\n",
       "    }\n",
       "</style>\n",
       "<table border=\"1\" class=\"dataframe\">\n",
       "  <thead>\n",
       "    <tr style=\"text-align: right;\">\n",
       "      <th></th>\n",
       "      <th>pandas_kurtosis</th>\n",
       "    </tr>\n",
       "  </thead>\n",
       "  <tbody>\n",
       "    <tr>\n",
       "      <th>HFRIFWI Index</th>\n",
       "      <td>5.7631</td>\n",
       "    </tr>\n",
       "    <tr>\n",
       "      <th>MLEIFCTR Index</th>\n",
       "      <td>1.6316</td>\n",
       "    </tr>\n",
       "    <tr>\n",
       "      <th>MLEIFCTX Index</th>\n",
       "      <td>1.5959</td>\n",
       "    </tr>\n",
       "    <tr>\n",
       "      <th>HDG US Equity</th>\n",
       "      <td>1.7593</td>\n",
       "    </tr>\n",
       "    <tr>\n",
       "      <th>QAI US Equity</th>\n",
       "      <td>1.6059</td>\n",
       "    </tr>\n",
       "  </tbody>\n",
       "</table>\n",
       "</div>"
      ],
      "text/plain": [
       "                pandas_kurtosis\n",
       "HFRIFWI Index            5.7631\n",
       "MLEIFCTR Index           1.6316\n",
       "MLEIFCTX Index           1.5959\n",
       "HDG US Equity            1.7593\n",
       "QAI US Equity            1.6059"
      ]
     },
     "metadata": {},
     "output_type": "display_data"
    }
   ],
   "source": [
    "\n",
    "\n",
    "# VaR\n",
    "def get_VaR(data, alpha=0.05):\n",
    "    return data.quantile(alpha)\n",
    "\n",
    "# CVaR\n",
    "def get_CVaR(data, alpha=0.05):\n",
    "    return data[data <= get_VaR(data, alpha)].mean()\n",
    "\n",
    "VaR = get_VaR(data, alpha = 0.05)\n",
    "CVaR = get_CVaR(data, alpha = 0.05)\n",
    "data_excess_mean = data - data.mean(axis = 0)\n",
    "skew_val = ((data_excess_mean)**3).sum(axis = 0) / ((data.std(axis = 0))**3 * (len(data)-1))\n",
    "kurt_val = ((data_excess_mean)**4).sum(axis = 0) / ((data.std(axis = 0))**4 * (len(data)-1)) - 3\n",
    "stats = pd.concat([VaR.to_frame(name=\"VaR\"), CVaR.to_frame(name = \"CVaR\"), skew_val.to_frame(name=\"skew\"), kurt_val.to_frame(name=\"kurtosis\")], axis = 1)\n",
    "print(\"Summary Statistics\")\n",
    "print(\"\\n\")\n",
    "display(stats)\n",
    "\n",
    "print(\"Validation with pandas stats\")\n",
    "print(\"\\n\")\n",
    "skew_val = data.skew(axis=0).to_frame(name=\"pandas_skew\")\n",
    "kurtosis_val = data.kurtosis(axis=0).to_frame(name=\"pandas_kurtosis\")\n",
    "display(skew_val)\n",
    "display(kurtosis_val)\n"
   ]
  },
  {
   "cell_type": "code",
   "execution_count": 11,
   "id": "ad71e7d9",
   "metadata": {},
   "outputs": [
    {
     "data": {
      "text/html": [
       "<div>\n",
       "<style scoped>\n",
       "    .dataframe tbody tr th:only-of-type {\n",
       "        vertical-align: middle;\n",
       "    }\n",
       "\n",
       "    .dataframe tbody tr th {\n",
       "        vertical-align: top;\n",
       "    }\n",
       "\n",
       "    .dataframe thead th {\n",
       "        text-align: right;\n",
       "    }\n",
       "</style>\n",
       "<table border=\"1\" class=\"dataframe\">\n",
       "  <thead>\n",
       "    <tr style=\"text-align: right;\">\n",
       "      <th></th>\n",
       "      <th>Mean_annualised</th>\n",
       "      <th>Standard_Deviation_annualised</th>\n",
       "      <th>Sharpe_Ratio</th>\n",
       "      <th>VaR</th>\n",
       "      <th>CVaR</th>\n",
       "      <th>skew</th>\n",
       "      <th>kurtosis</th>\n",
       "    </tr>\n",
       "  </thead>\n",
       "  <tbody>\n",
       "    <tr>\n",
       "      <th>HFRIFWI Index</th>\n",
       "      <td>0.0483</td>\n",
       "      <td>0.0595</td>\n",
       "      <td>0.2344</td>\n",
       "      <td>-0.0243</td>\n",
       "      <td>-0.0375</td>\n",
       "      <td>-0.9511</td>\n",
       "      <td>5.4905</td>\n",
       "    </tr>\n",
       "    <tr>\n",
       "      <th>MLEIFCTR Index</th>\n",
       "      <td>0.0363</td>\n",
       "      <td>0.0561</td>\n",
       "      <td>0.1866</td>\n",
       "      <td>-0.0282</td>\n",
       "      <td>-0.0359</td>\n",
       "      <td>-0.2620</td>\n",
       "      <td>1.5139</td>\n",
       "    </tr>\n",
       "    <tr>\n",
       "      <th>MLEIFCTX Index</th>\n",
       "      <td>0.0346</td>\n",
       "      <td>0.0560</td>\n",
       "      <td>0.1785</td>\n",
       "      <td>-0.0281</td>\n",
       "      <td>-0.0358</td>\n",
       "      <td>-0.2481</td>\n",
       "      <td>1.4795</td>\n",
       "    </tr>\n",
       "    <tr>\n",
       "      <th>HDG US Equity</th>\n",
       "      <td>0.0248</td>\n",
       "      <td>0.0584</td>\n",
       "      <td>0.1226</td>\n",
       "      <td>-0.0309</td>\n",
       "      <td>-0.0376</td>\n",
       "      <td>-0.2510</td>\n",
       "      <td>1.6368</td>\n",
       "    </tr>\n",
       "    <tr>\n",
       "      <th>QAI US Equity</th>\n",
       "      <td>0.0257</td>\n",
       "      <td>0.0500</td>\n",
       "      <td>0.1481</td>\n",
       "      <td>-0.0179</td>\n",
       "      <td>-0.0327</td>\n",
       "      <td>-0.4293</td>\n",
       "      <td>1.4892</td>\n",
       "    </tr>\n",
       "  </tbody>\n",
       "</table>\n",
       "</div>"
      ],
      "text/plain": [
       "                Mean_annualised  Standard_Deviation_annualised  Sharpe_Ratio  \\\n",
       "HFRIFWI Index            0.0483                         0.0595        0.2344   \n",
       "MLEIFCTR Index           0.0363                         0.0561        0.1866   \n",
       "MLEIFCTX Index           0.0346                         0.0560        0.1785   \n",
       "HDG US Equity            0.0248                         0.0584        0.1226   \n",
       "QAI US Equity            0.0257                         0.0500        0.1481   \n",
       "\n",
       "                   VaR    CVaR    skew  kurtosis  \n",
       "HFRIFWI Index  -0.0243 -0.0375 -0.9511    5.4905  \n",
       "MLEIFCTR Index -0.0282 -0.0359 -0.2620    1.5139  \n",
       "MLEIFCTX Index -0.0281 -0.0358 -0.2481    1.4795  \n",
       "HDG US Equity  -0.0309 -0.0376 -0.2510    1.6368  \n",
       "QAI US Equity  -0.0179 -0.0327 -0.4293    1.4892  "
      ]
     },
     "execution_count": 11,
     "metadata": {},
     "output_type": "execute_result"
    }
   ],
   "source": [
    "combined_stats = pd.concat([data_stats, stats], axis = 1)\n",
    "combined_stats"
   ]
  },
  {
   "cell_type": "markdown",
   "id": "9deb5072",
   "metadata": {},
   "source": [
    "## 3. \n",
    "\n",
    "For the series in the \"hedge fund series\" tab, run a regression of each against SPY (found in the \"merrill factors\" tab.) Include an intercept. Report the following regression-based statistics:\n",
    "* Market Beta\n",
    "* Treynor Ratio\n",
    "* Information ratio\n",
    "\n",
    "Annualize these three statistics as appropriate."
   ]
  },
  {
   "cell_type": "code",
   "execution_count": 12,
   "id": "dc4a6d59",
   "metadata": {},
   "outputs": [],
   "source": [
    "spy_data= fa.load_data(filename = \"proshares_analysis_data.xlsx\", path = \"./data\", sheet_name = \"merrill_factors\")"
   ]
  },
  {
   "cell_type": "code",
   "execution_count": 13,
   "id": "f7f31a6a",
   "metadata": {},
   "outputs": [
    {
     "data": {
      "text/plain": [
       "Date\n",
       "2011-08-31   -0.0550\n",
       "2011-09-30   -0.0694\n",
       "2011-10-31    0.1091\n",
       "2011-11-30   -0.0041\n",
       "2011-12-31    0.0104\n",
       "               ...  \n",
       "2024-05-31    0.0506\n",
       "2024-06-30    0.0353\n",
       "2024-07-31    0.0121\n",
       "2024-08-31    0.0234\n",
       "2024-09-30    0.0210\n",
       "Name: SPY US Equity, Length: 158, dtype: float64"
      ]
     },
     "metadata": {},
     "output_type": "display_data"
    }
   ],
   "source": [
    "spy_data.rename(columns = {\"Unnamed: 0\":\"Date\"}, inplace = True)\n",
    "spy_data.set_index(\"Date\", inplace = True)\n",
    "spy = spy_data.loc[:,\"SPY US Equity\"]\n",
    "display(spy)"
   ]
  },
  {
   "cell_type": "code",
   "execution_count": 14,
   "id": "59f92553",
   "metadata": {},
   "outputs": [],
   "source": [
    "from sklearn.linear_model import LinearRegression\n",
    "from dask.distributed import Client\n",
    "\n",
    "# # Assuming `spy` is your independent variable (e.g., S&P 500 index values) and `data` is the DataFrame of dependent variables\n",
    "# with Client() as client:\n",
    "#     futures = []\n",
    "    \n",
    "#     # Prepare the tasks for parallel processing\n",
    "#     for col in data.columns:\n",
    "#         model = LinearRegression(fit_intercept=True)\n",
    "#         X = spy.values.reshape(-1, 1)  # Independent variable\n",
    "#         y = data[col].values  # Dependent variable for each column\n",
    "        \n",
    "#         # Schedule the fit task using dask client\n",
    "#         future = client.submit(model.fit, X, y)\n",
    "#         futures.append((col, future))\n",
    "    \n",
    "#     # Collect results\n",
    "#     results = {col_name: future.result() for col_name, future in futures}\n",
    "\n",
    "# results\n"
   ]
  },
  {
   "cell_type": "code",
   "execution_count": 15,
   "id": "bcf389d8",
   "metadata": {},
   "outputs": [
    {
     "name": "stdout",
     "output_type": "stream",
     "text": [
      "Univariate Factor Decomposition Statistics:\n"
     ]
    },
    {
     "data": {
      "text/html": [
       "<div>\n",
       "<style scoped>\n",
       "    .dataframe tbody tr th:only-of-type {\n",
       "        vertical-align: middle;\n",
       "    }\n",
       "\n",
       "    .dataframe tbody tr th {\n",
       "        vertical-align: top;\n",
       "    }\n",
       "\n",
       "    .dataframe thead th {\n",
       "        text-align: right;\n",
       "    }\n",
       "</style>\n",
       "<table border=\"1\" class=\"dataframe\">\n",
       "  <thead>\n",
       "    <tr style=\"text-align: right;\">\n",
       "      <th></th>\n",
       "      <th>Beta</th>\n",
       "      <th>Alpha</th>\n",
       "      <th>Treynor Ratio</th>\n",
       "      <th>Information Ratio</th>\n",
       "    </tr>\n",
       "    <tr>\n",
       "      <th>Fund</th>\n",
       "      <th></th>\n",
       "      <th></th>\n",
       "      <th></th>\n",
       "      <th></th>\n",
       "    </tr>\n",
       "  </thead>\n",
       "  <tbody>\n",
       "    <tr>\n",
       "      <th>HFRIFWI Index</th>\n",
       "      <td>0.3461</td>\n",
       "      <td>-0.0001</td>\n",
       "      <td>0.1395</td>\n",
       "      <td>-0.0358</td>\n",
       "    </tr>\n",
       "    <tr>\n",
       "      <th>MLEIFCTR Index</th>\n",
       "      <td>0.3434</td>\n",
       "      <td>-0.0011</td>\n",
       "      <td>0.1057</td>\n",
       "      <td>-0.4915</td>\n",
       "    </tr>\n",
       "    <tr>\n",
       "      <th>MLEIFCTX Index</th>\n",
       "      <td>0.3422</td>\n",
       "      <td>-0.0012</td>\n",
       "      <td>0.1011</td>\n",
       "      <td>-0.5495</td>\n",
       "    </tr>\n",
       "    <tr>\n",
       "      <th>HDG US Equity</th>\n",
       "      <td>0.3521</td>\n",
       "      <td>-0.0021</td>\n",
       "      <td>0.0705</td>\n",
       "      <td>-0.8963</td>\n",
       "    </tr>\n",
       "    <tr>\n",
       "      <th>QAI US Equity</th>\n",
       "      <td>0.2984</td>\n",
       "      <td>-0.0014</td>\n",
       "      <td>0.0860</td>\n",
       "      <td>-0.6756</td>\n",
       "    </tr>\n",
       "  </tbody>\n",
       "</table>\n",
       "</div>"
      ],
      "text/plain": [
       "                 Beta   Alpha  Treynor Ratio  Information Ratio\n",
       "Fund                                                           \n",
       "HFRIFWI Index  0.3461 -0.0001         0.1395            -0.0358\n",
       "MLEIFCTR Index 0.3434 -0.0011         0.1057            -0.4915\n",
       "MLEIFCTX Index 0.3422 -0.0012         0.1011            -0.5495\n",
       "HDG US Equity  0.3521 -0.0021         0.0705            -0.8963\n",
       "QAI US Equity  0.2984 -0.0014         0.0860            -0.6756"
      ]
     },
     "metadata": {},
     "output_type": "display_data"
    },
    {
     "name": "stdout",
     "output_type": "stream",
     "text": [
      "Residuals:\n"
     ]
    },
    {
     "data": {
      "text/html": [
       "<div>\n",
       "<style scoped>\n",
       "    .dataframe tbody tr th:only-of-type {\n",
       "        vertical-align: middle;\n",
       "    }\n",
       "\n",
       "    .dataframe tbody tr th {\n",
       "        vertical-align: top;\n",
       "    }\n",
       "\n",
       "    .dataframe thead th {\n",
       "        text-align: right;\n",
       "    }\n",
       "</style>\n",
       "<table border=\"1\" class=\"dataframe\">\n",
       "  <thead>\n",
       "    <tr style=\"text-align: right;\">\n",
       "      <th></th>\n",
       "      <th>HFRIFWI Index</th>\n",
       "      <th>MLEIFCTR Index</th>\n",
       "      <th>MLEIFCTX Index</th>\n",
       "      <th>HDG US Equity</th>\n",
       "      <th>QAI US Equity</th>\n",
       "    </tr>\n",
       "    <tr>\n",
       "      <th>Date</th>\n",
       "      <th></th>\n",
       "      <th></th>\n",
       "      <th></th>\n",
       "      <th></th>\n",
       "      <th></th>\n",
       "    </tr>\n",
       "  </thead>\n",
       "  <tbody>\n",
       "    <tr>\n",
       "      <th>2011-08-31</th>\n",
       "      <td>-0.0130</td>\n",
       "      <td>-0.0056</td>\n",
       "      <td>-0.0057</td>\n",
       "      <td>-0.0056</td>\n",
       "      <td>0.0113</td>\n",
       "    </tr>\n",
       "    <tr>\n",
       "      <th>2011-09-30</th>\n",
       "      <td>-0.0148</td>\n",
       "      <td>-0.0075</td>\n",
       "      <td>-0.0077</td>\n",
       "      <td>-0.0059</td>\n",
       "      <td>-0.0000</td>\n",
       "    </tr>\n",
       "    <tr>\n",
       "      <th>2011-10-31</th>\n",
       "      <td>-0.0108</td>\n",
       "      <td>0.0072</td>\n",
       "      <td>0.0072</td>\n",
       "      <td>0.0142</td>\n",
       "      <td>-0.0059</td>\n",
       "    </tr>\n",
       "    <tr>\n",
       "      <th>2011-11-30</th>\n",
       "      <td>-0.0120</td>\n",
       "      <td>-0.0097</td>\n",
       "      <td>-0.0099</td>\n",
       "      <td>-0.0251</td>\n",
       "      <td>-0.0053</td>\n",
       "    </tr>\n",
       "    <tr>\n",
       "      <th>2011-12-31</th>\n",
       "      <td>-0.0080</td>\n",
       "      <td>-0.0006</td>\n",
       "      <td>-0.0006</td>\n",
       "      <td>0.0113</td>\n",
       "      <td>0.0001</td>\n",
       "    </tr>\n",
       "    <tr>\n",
       "      <th>...</th>\n",
       "      <td>...</td>\n",
       "      <td>...</td>\n",
       "      <td>...</td>\n",
       "      <td>...</td>\n",
       "      <td>...</td>\n",
       "    </tr>\n",
       "    <tr>\n",
       "      <th>2024-05-31</th>\n",
       "      <td>-0.0033</td>\n",
       "      <td>-0.0057</td>\n",
       "      <td>-0.0058</td>\n",
       "      <td>-0.0045</td>\n",
       "      <td>-0.0002</td>\n",
       "    </tr>\n",
       "    <tr>\n",
       "      <th>2024-06-30</th>\n",
       "      <td>-0.0124</td>\n",
       "      <td>-0.0098</td>\n",
       "      <td>-0.0098</td>\n",
       "      <td>-0.0123</td>\n",
       "      <td>-0.0059</td>\n",
       "    </tr>\n",
       "    <tr>\n",
       "      <th>2024-07-31</th>\n",
       "      <td>0.0086</td>\n",
       "      <td>0.0207</td>\n",
       "      <td>0.0202</td>\n",
       "      <td>0.0222</td>\n",
       "      <td>0.0091</td>\n",
       "    </tr>\n",
       "    <tr>\n",
       "      <th>2024-08-31</th>\n",
       "      <td>-0.0055</td>\n",
       "      <td>-0.0077</td>\n",
       "      <td>-0.0076</td>\n",
       "      <td>-0.0085</td>\n",
       "      <td>0.0021</td>\n",
       "    </tr>\n",
       "    <tr>\n",
       "      <th>2024-09-30</th>\n",
       "      <td>0.0051</td>\n",
       "      <td>0.0030</td>\n",
       "      <td>0.0030</td>\n",
       "      <td>0.0022</td>\n",
       "      <td>0.0097</td>\n",
       "    </tr>\n",
       "  </tbody>\n",
       "</table>\n",
       "<p>158 rows × 5 columns</p>\n",
       "</div>"
      ],
      "text/plain": [
       "            HFRIFWI Index  MLEIFCTR Index  MLEIFCTX Index  HDG US Equity  \\\n",
       "Date                                                                       \n",
       "2011-08-31        -0.0130         -0.0056         -0.0057        -0.0056   \n",
       "2011-09-30        -0.0148         -0.0075         -0.0077        -0.0059   \n",
       "2011-10-31        -0.0108          0.0072          0.0072         0.0142   \n",
       "2011-11-30        -0.0120         -0.0097         -0.0099        -0.0251   \n",
       "2011-12-31        -0.0080         -0.0006         -0.0006         0.0113   \n",
       "...                   ...             ...             ...            ...   \n",
       "2024-05-31        -0.0033         -0.0057         -0.0058        -0.0045   \n",
       "2024-06-30        -0.0124         -0.0098         -0.0098        -0.0123   \n",
       "2024-07-31         0.0086          0.0207          0.0202         0.0222   \n",
       "2024-08-31        -0.0055         -0.0077         -0.0076        -0.0085   \n",
       "2024-09-30         0.0051          0.0030          0.0030         0.0022   \n",
       "\n",
       "            QAI US Equity  \n",
       "Date                       \n",
       "2011-08-31         0.0113  \n",
       "2011-09-30        -0.0000  \n",
       "2011-10-31        -0.0059  \n",
       "2011-11-30        -0.0053  \n",
       "2011-12-31         0.0001  \n",
       "...                   ...  \n",
       "2024-05-31        -0.0002  \n",
       "2024-06-30        -0.0059  \n",
       "2024-07-31         0.0091  \n",
       "2024-08-31         0.0021  \n",
       "2024-09-30         0.0097  \n",
       "\n",
       "[158 rows x 5 columns]"
      ]
     },
     "metadata": {},
     "output_type": "display_data"
    }
   ],
   "source": [
    "# import pandas as pd\n",
    "# from sklearn.linear_model import LinearRegression\n",
    "# from dask.distributed import Client\n",
    "\n",
    "# def univariate_factor_decomposition_stats(data, spy, annual_factor=12):\n",
    "#     \"\"\"\n",
    "#     Perform univariate factor decomposition on multiple funds using a specified independent variable (e.g., S&P 500 returns).\n",
    "    \n",
    "#     This function calculates Betas, Alphas, Annualised Treynor Ratios, Annualised Information Ratios, and Residuals for each fund \n",
    "#     in the `data` DataFrame by regressing each fund's returns against the returns of an independent variable (e.g., SPY). \n",
    "    \n",
    "#     Parameters:\n",
    "#     ----------\n",
    "#     data : pd.DataFrame\n",
    "#         DataFrame containing the returns of multiple funds, with each column representing a different fund.\n",
    "        \n",
    "#     spy : pd.Series\n",
    "#         Independent variable (e.g., S&P 500 returns) used to regress against the funds' returns.\n",
    "        \n",
    "#     annual_factor : int, optional (default=12)\n",
    "#         The factor used to annualize monthly returns and other metrics. \n",
    "#         Common values:\n",
    "#         - 12 for monthly data (annualized to a year)\n",
    "#         - 252 for daily data (annualized to a year assuming 252 trading days)\n",
    "        \n",
    "#     Returns:\n",
    "#     -------\n",
    "#     tuple\n",
    "#         - pd.DataFrame: A DataFrame with Betas, Alphas, Annualised Treynor Ratios, and Annualised Information Ratios for each fund.\n",
    "#         - pd.DataFrame: A DataFrame containing the residuals of the regression for each fund.\n",
    "    \n",
    "#     Concepts:\n",
    "#     ---------\n",
    "#     **Beta (β):**\n",
    "#         Beta measures the sensitivity of a fund's returns to the independent variable (e.g., market index like SPY). \n",
    "#         A Beta of 1 indicates that the fund moves in line with the market, while a Beta greater than 1 suggests higher volatility \n",
    "#         relative to the market, and a Beta less than 1 suggests lower volatility.\n",
    "\n",
    "#     **Alpha (α):**\n",
    "#         Alpha represents the intercept of the regression and measures the excess return of a fund beyond what can be explained \n",
    "#         by its exposure to the independent variable (Beta). A positive Alpha indicates that the fund has outperformed \n",
    "#         relative to its expected return, while a negative Alpha suggests underperformance.\n",
    "\n",
    "#     **Treynor Ratio:**\n",
    "#         The Treynor Ratio is an alternative measure of the risk-reward tradeoff, calculated as the mean return of the fund divided by its Beta. \n",
    "#         It is used to evaluate the performance of an investment by measuring returns per unit of systematic risk (market risk). \n",
    "#         Typically, it is used to assess a fund's performance relative to a market benchmark like SPY. \n",
    "#         The Treynor Ratio is annualized using the `annual_factor` parameter.\n",
    "\n",
    "#         Formula:\n",
    "#         \\[\n",
    "#         \\text{Treynor Ratio} = \\frac{\\text{Mean Return} \\times \\text{Annual Factor}}{\\text{Beta}}\n",
    "#         \\]\n",
    "\n",
    "#     **Information Ratio:**\n",
    "#         The Information Ratio is similar to the Sharpe Ratio but focuses on the non-factor component of returns \n",
    "#         (i.e., Alpha plus Epsilon, where Epsilon represents the random error or residuals). \n",
    "#         It measures the risk-adjusted performance of the excess return (Alpha) relative to the non-factor volatility (Epsilon).\n",
    "#         Alpha is the mean of the non-factor component, and the standard deviation of the residuals represents the non-factor volatility.\n",
    "#         This ratio indicates how much excess return is achieved per unit of non-systematic risk, helping investors gauge a fund's \n",
    "#         performance beyond the influence of the market factor. The Information Ratio is also annualized using the `annual_factor` parameter.\n",
    "\n",
    "#         Formula:\n",
    "#         \\[\n",
    "#         \\text{Information Ratio} = \\frac{\\alpha \\times \\sqrt{\\text{Annual Factor}}}{\\sigma(\\epsilon)}\n",
    "#         \\]\n",
    "#         Where:\n",
    "#         - \\(\\alpha\\) is the intercept (excess return beyond the factor)\n",
    "#         - \\(\\sigma(\\epsilon)\\) is the standard deviation of the residuals (non-factor volatility)\n",
    "\n",
    "#     **Residuals:**\n",
    "#         Residuals represent the difference between the actual returns and the predicted returns based on the regression model.\n",
    "#         Residuals help in understanding the part of the fund's returns that cannot be explained by its exposure to the independent variable.\n",
    "#     \"\"\"\n",
    "#     # Fit Linear Regression Models using Dask for parallel processing\n",
    "#     with Client() as client:\n",
    "#         futures = []\n",
    "#         for col in data.columns:\n",
    "#             model = LinearRegression(fit_intercept=True)\n",
    "#             X = spy.values.reshape(-1, 1)  # Independent variable\n",
    "#             y = data[col].values  # Dependent variable for each column\n",
    "#             future = client.submit(model.fit, X, y)\n",
    "#             futures.append((col, future))\n",
    "        \n",
    "#         # Collect results\n",
    "#         results = {col_name: future.result() for col_name, future in futures}\n",
    "\n",
    "#     # Calculate Betas and Alphas\n",
    "#     betas = {col: results[col].coef_[0] for col in data.columns}\n",
    "#     alphas = {col: results[col].intercept_ for col in data.columns}\n",
    "\n",
    "#     # Calculate Residuals for each column\n",
    "#     residuals = {\n",
    "#         col: data[col] - results[col].predict(spy.values.reshape(-1, 1)) for col in data.columns\n",
    "#     }\n",
    "\n",
    "#     # Create DataFrames for Betas and Alphas\n",
    "#     betas_df = pd.DataFrame(betas.items(), columns=[\"Fund\", \"Beta\"]).set_index(\"Fund\")\n",
    "#     alphas_df = pd.DataFrame(alphas.items(), columns=[\"Fund\", \"Alpha\"]).set_index(\"Fund\")\n",
    "\n",
    "#     # Treynor Ratio (Average Return / Beta)\n",
    "#     treynor_ratio = {col: data[col].mean()*annual_factor / betas[col] for col in data.columns}\n",
    "#     treynor_ratio_df = pd.DataFrame(treynor_ratio.items(), columns=[\"Fund\", \"Treynor Ratio\"]).set_index(\"Fund\")\n",
    "\n",
    "#     # Information Ratio (Alpha / Residual Standard Deviation)\n",
    "#     information_ratio = {col: alphas[col]*np.sqrt(annual_factor) / residuals[col].std() for col in data.columns}\n",
    "#     information_ratio_df = pd.DataFrame(information_ratio.items(), columns=[\"Fund\", \"Information Ratio\"]).set_index(\"Fund\")\n",
    "\n",
    "#     # Combine all statistics into a single DataFrame\n",
    "#     stats_df = pd.concat([betas_df, alphas_df, treynor_ratio_df, information_ratio_df], axis=1)\n",
    "\n",
    "#     # Combine Residuals into a DataFrame\n",
    "#     residuals_df = pd.DataFrame(residuals)\n",
    "\n",
    "#     return stats_df, residuals_df\n",
    "\n",
    "# Example Usage:\n",
    "stats_df, residuals_df = fa.univariate_factor_decomposition_stats(data, spy)\n",
    "\n",
    "# Display the results\n",
    "print(\"Univariate Factor Decomposition Statistics:\")\n",
    "display(stats_df)\n",
    "\n",
    "print(\"Residuals:\")\n",
    "display(residuals_df)\n"
   ]
  },
  {
   "cell_type": "code",
   "execution_count": 16,
   "id": "477d3c89",
   "metadata": {},
   "outputs": [],
   "source": [
    "# spy_data_full = load_data(sheet_name=\"merrill_factors\")\n",
    "# spy_data = spy_data_full.loc[:,'SPY US Equity']\n",
    "# display(spy_data)"
   ]
  },
  {
   "cell_type": "code",
   "execution_count": 17,
   "id": "27299dcb",
   "metadata": {},
   "outputs": [],
   "source": [
    "# from sklearn.linear_model import LinearRegression\n",
    "# import dask\n",
    "# from dask.delayed import delayed"
   ]
  },
  {
   "cell_type": "code",
   "execution_count": 18,
   "id": "9851ac01",
   "metadata": {},
   "outputs": [],
   "source": [
    "# model = LinearRegression(fit_intercept=True)\n",
    "# model_params = {}\n",
    "# @delayed\n",
    "# def compute_regression(target_data):\n",
    "#     model.fit(spy_data.values.reshape(-1,1), target_data)\n",
    "#     return model.coef_[0], model.intercept_\n",
    "# results = []\n",
    "# for col in data.columns:\n",
    "#     result = compute_regression(data[col])\n",
    "#     results.append(result)\n",
    "# model_params = dask.compute(*results)\n",
    "# model_params_data = pd.DataFrame({col: {\"beta\": beta, \"intercept\": intercept} for col, (beta, intercept) in zip(data.columns, model_params)})\n",
    "# display(model_params_data)"
   ]
  },
  {
   "cell_type": "code",
   "execution_count": 19,
   "id": "63c6d152",
   "metadata": {},
   "outputs": [],
   "source": [
    "# # Treynor ratio not risk free adjusted\n",
    "# Treynor_ratio = (data.mean() / model_params_data.loc[\"beta\",:].T).to_frame(name=\"Treynor_Ratio\")\n",
    "\n",
    "# # validation\n",
    "# if np.isclose(Treynor_ratio.loc[\"HDG US Equity\",:],data.loc[:,\"HDG US Equity\"].mean() / model_params_data.loc[\"beta\",\"HDG US Equity\"]).all():\n",
    "#     display(Treynor_ratio)\n",
    "# else:\n",
    "#     raise ValueError(\"Treynor ratio calculation is incorrect\")"
   ]
  },
  {
   "cell_type": "code",
   "execution_count": 20,
   "id": "642a407a",
   "metadata": {},
   "outputs": [],
   "source": [
    "\n",
    "# predicted = spy_data.to_numpy().reshape(-1,1) * model_params_data.loc[\"beta\",:].to_numpy().T\n",
    "\n",
    "# unexplained = data.to_numpy() - predicted\n",
    "# unexplained_mean = unexplained.mean(axis = 0)\n",
    "# unexplained_std = unexplained.std(axis = 0)\n",
    "# information_ratios = unexplained_mean / unexplained_std\n",
    "# information_ratios.T\n",
    "\n",
    "# information_df = pd.DataFrame(information_ratios.reshape(1,-1), columns=model_params_data.loc[\"beta\",:].T.index,index=[\"Information_Ratio\"])\n",
    "# display(information_df)\n",
    "\n",
    "# # print(unexplained_mean)\n",
    "# # print(unexplained_std)"
   ]
  },
  {
   "cell_type": "code",
   "execution_count": 21,
   "id": "e5265437",
   "metadata": {},
   "outputs": [],
   "source": [
    "# # combine stats\n",
    "\n",
    "# pd.concat([model_params_data,Treynor_ratio.T, information_df], axis = 0)"
   ]
  },
  {
   "cell_type": "markdown",
   "id": "9dd139ed",
   "metadata": {},
   "source": [
    "## 4. \n",
    "\n",
    "Discuss the previous statistics, and what they tell us about...\n",
    "\n",
    "* the differences between SPY and the hedge-fund series?\n",
    "* which performs better between HDG and QAI.\n",
    "* whether HDG and the ML series capture the most notable properties of HFRI."
   ]
  },
  {
   "cell_type": "markdown",
   "id": "d608881c",
   "metadata": {},
   "source": [
    "The hedge fund series is less sensitive to movement in markets as seen from the beta of each compnent. The beta values indicate how much each hedge-fund series is expected to move relative to a 1% move in SPY. All beta values are significantly less than 1, suggesting that all these funds are less volatile than SPY. The hedge fund series does not seem to perform better than SPY as seen from the negative values of intercepts, meaning the excess return beyond that explained by SPY is negative. Smaller treynor ratio also means that the returns per unit systematic risk taken through the asset is poor. This is also obesevred with the negative information ratios. \n",
    "\n",
    "QAI US Equity performs slighly better with a higher Treynor ratio and information ratio, meaning it perovides higher risk to reward ratio than HDG.\n",
    "\n",
    "The beta values of HDG and the ML series (MLEIFCTR and MLEIFCTX) are all closer to HFRI's beta, suggesting that they somewhat capture the market sensitivity of HFRI.  In terms of Treynor and Information Ratios, none of the funds (HDG, MLEIFCTR, MLEIFCTX) closely mimic the performance characteristics of HFRI. They all have more negative intercepts and worse Information Ratios compared to HFRI, indicating a generally poorer performance relative to the benchmark after adjusting for market movements."
   ]
  },
  {
   "cell_type": "markdown",
   "id": "efc199e0",
   "metadata": {},
   "source": [
    "## 5. \n",
    "\n",
    "Report the correlation matrix for these assets.\n",
    "* Show the correlations as a heat map.\n",
    "* Which series have the highest and lowest correlations?"
   ]
  },
  {
   "cell_type": "code",
   "execution_count": 22,
   "id": "44c3c553",
   "metadata": {},
   "outputs": [
    {
     "name": "stdout",
     "output_type": "stream",
     "text": [
      "Min correlation is between 'HFRIFWI Index' and 'SPY' with a coefficient of 0.8434928\n",
      "('HFRIFWI Index', 'SPY', 0.8434928326363362)\n",
      "Max correlation is between 'MLEIFCTR Index' and 'MLEIFCTX Index' with a coefficient of 0.9999095\n",
      "('MLEIFCTR Index', 'MLEIFCTX Index', 0.9999094742612991)\n"
     ]
    },
    {
     "data": {
      "image/png": "[encoded data removed]",
      "text/plain": [
       "<Figure size 640x480 with 2 Axes>"
      ]
     },
     "metadata": {},
     "output_type": "display_data"
    }
   ],
   "source": [
    "corr_data = data.assign(SPY = spy)\n",
    "import seaborn as sns\n",
    "sns.heatmap(corr_data.corr(), annot=True)\n",
    "print(fa.find_corr(corr_data.corr(),type=\"min\"))\n",
    "print(fa.find_corr(corr_data.corr(),type=\"max\"))"
   ]
  },
  {
   "cell_type": "code",
   "execution_count": 23,
   "id": "31855f13",
   "metadata": {},
   "outputs": [],
   "source": [
    "merrill_data = fa.load_data(filename=\"proshares_analysis_data.xlsx\",sheet_name=\"merrill_factors\")"
   ]
  },
  {
   "cell_type": "code",
   "execution_count": 24,
   "id": "1045ca87",
   "metadata": {},
   "outputs": [
    {
     "data": {
      "text/plain": [
       "<Axes: >"
      ]
     },
     "execution_count": 24,
     "metadata": {},
     "output_type": "execute_result"
    },
    {
     "data": {
      "image/png": "[encoded data removed]",
      "text/plain": [
       "<Figure size 640x480 with 2 Axes>"
      ]
     },
     "metadata": {},
     "output_type": "display_data"
    }
   ],
   "source": [
    "from matplotlib import pyplot as plt\n",
    "import seaborn as sns\n",
    "\n",
    "sns.heatmap(data.corr(), annot=True)"
   ]
  },
  {
   "cell_type": "markdown",
   "id": "d4e48219",
   "metadata": {},
   "source": [
    "THE HDG US Equity has the highest correleation with the Meryill Lynch Factor model indexes with a correlation of about 0.99\n"
   ]
  },
  {
   "cell_type": "markdown",
   "id": "f79554a0",
   "metadata": {},
   "source": [
    "## 6.\n",
    "\n",
    "Replicate HFRI with the six factors listed on the \"merrill factors\" tab. Include a constant, and run the unrestricted regression,\n",
    "\n",
    "$\\newcommand{\\hfri}{\\text{hfri}}$\n",
    "$\\newcommand{\\merr}{\\text{merr}}$\n",
    "\n",
    "$$\\begin{align}\n",
    "r^{\\hfri}_{t} &= \\alpha^{\\merr} + x_{t}^{\\merr}\\beta^{\\merr} + \\epsilon_{t}^{\\merr}\\\\[5pt]\n",
    "\\hat{r}^{\\hfri}_{t} &= \\hat{\\alpha}^{\\merr} + x_{t}^{\\merr}\\hat{\\beta}^{\\merr}\n",
    "\\end{align}$$ \n",
    "\n",
    "Note that the second equation is just our notation for the fitted replication.\n",
    "\n",
    "a. Report the intercept and betas.\n",
    "b. Are the betas realistic position sizes, or do they require huge long-short positions?\n",
    "c. Report the R-squared.\n",
    "d. Report the volatility of $\\epsilon^{\\merr}$, the tracking error."
   ]
  },
  {
   "cell_type": "code",
   "execution_count": 25,
   "id": "0eea3993",
   "metadata": {},
   "outputs": [
    {
     "name": "stdout",
     "output_type": "stream",
     "text": [
      "Beta: [0.03648332 0.14633597 0.08161123 0.08463804 0.02880573 0.14511063]\n",
      "Intercept: [0.00123534]\n",
      "R2: 0.8396762289195675\n",
      "Tracking Error: 0.023739066669173598\n",
      "Treynor Ratio: [1.32375343 0.33002769 0.59176814 0.57060539 1.6765732  0.33281451]\n",
      "Information Ratio: [0.18026529]\n"
     ]
    },
    {
     "data": {
      "text/html": [
       "<div>\n",
       "<style scoped>\n",
       "    .dataframe tbody tr th:only-of-type {\n",
       "        vertical-align: middle;\n",
       "    }\n",
       "\n",
       "    .dataframe tbody tr th {\n",
       "        vertical-align: top;\n",
       "    }\n",
       "\n",
       "    .dataframe thead th {\n",
       "        text-align: right;\n",
       "    }\n",
       "</style>\n",
       "<table border=\"1\" class=\"dataframe\">\n",
       "  <thead>\n",
       "    <tr style=\"text-align: right;\">\n",
       "      <th></th>\n",
       "      <th>Beta</th>\n",
       "    </tr>\n",
       "  </thead>\n",
       "  <tbody>\n",
       "    <tr>\n",
       "      <th>SPY US Equity</th>\n",
       "      <td>0.0365</td>\n",
       "    </tr>\n",
       "    <tr>\n",
       "      <th>USGG3M Index</th>\n",
       "      <td>0.1463</td>\n",
       "    </tr>\n",
       "    <tr>\n",
       "      <th>EEM US Equity</th>\n",
       "      <td>0.0816</td>\n",
       "    </tr>\n",
       "    <tr>\n",
       "      <th>EFA US Equity</th>\n",
       "      <td>0.0846</td>\n",
       "    </tr>\n",
       "    <tr>\n",
       "      <th>EUO US Equity</th>\n",
       "      <td>0.0288</td>\n",
       "    </tr>\n",
       "    <tr>\n",
       "      <th>IWM US Equity</th>\n",
       "      <td>0.1451</td>\n",
       "    </tr>\n",
       "  </tbody>\n",
       "</table>\n",
       "</div>"
      ],
      "text/plain": [
       "                Beta\n",
       "SPY US Equity 0.0365\n",
       "USGG3M Index  0.1463\n",
       "EEM US Equity 0.0816\n",
       "EFA US Equity 0.0846\n",
       "EUO US Equity 0.0288\n",
       "IWM US Equity 0.1451"
      ]
     },
     "metadata": {},
     "output_type": "display_data"
    }
   ],
   "source": [
    "from sklearn.metrics import r2_score\n",
    "annual_factor = 12\n",
    "merrill_data = fa.load_data(filename = \"proshares_analysis_data.xlsx\", path = \"./data\",sheet_name=\"merrill_factors\")\n",
    "merrill_data.rename(columns = {\"Unnamed: 0\":\"Date\"}, inplace = True)\n",
    "merrill_data.set_index(\"Date\", inplace = True)\n",
    "\n",
    "hfri_data = data.loc[:, \"HFRIFWI Index\"]\n",
    "X = merrill_data.values\n",
    "y = hfri_data.values.reshape(-1,1)\n",
    "model = LinearRegression(fit_intercept=True)\n",
    "model.fit(X,y)\n",
    "beta = model.coef_[0]\n",
    "intercept = model.intercept_\n",
    "residuals = y - model.predict(X)\n",
    "tracking_error = np.std(residuals) * np.sqrt(annual_factor)\n",
    "r2 = model.score(X,y)\n",
    "Treynor_ratio = hfri_data.mean() * annual_factor/ beta\n",
    "information_ratio = intercept * np.sqrt(annual_factor)/ tracking_error\n",
    "results = {\"Beta\": beta, \"Intercept\": intercept, \"R2\": r2, \"Tracking Error\": tracking_error, \"Treynor Ratio\": Treynor_ratio, \"Information Ratio\": information_ratio}\n",
    "for key, value in results.items():\n",
    "    print(f\"{key}: {value}\")\n",
    "beta_df = pd.DataFrame({col: model.coef_[0][i] for i,col in enumerate(merrill_data.columns)}, index=[\"Beta\"])\n",
    "display(beta_df.T)"
   ]
  },
  {
   "cell_type": "code",
   "execution_count": 26,
   "id": "71ce6e99",
   "metadata": {},
   "outputs": [
    {
     "data": {
      "text/html": [
       "<div>\n",
       "<style scoped>\n",
       "    .dataframe tbody tr th:only-of-type {\n",
       "        vertical-align: middle;\n",
       "    }\n",
       "\n",
       "    .dataframe tbody tr th {\n",
       "        vertical-align: top;\n",
       "    }\n",
       "\n",
       "    .dataframe thead th {\n",
       "        text-align: right;\n",
       "    }\n",
       "</style>\n",
       "<table border=\"1\" class=\"dataframe\">\n",
       "  <thead>\n",
       "    <tr style=\"text-align: right;\">\n",
       "      <th></th>\n",
       "      <th>beta</th>\n",
       "      <th>intercept</th>\n",
       "    </tr>\n",
       "  </thead>\n",
       "  <tbody>\n",
       "    <tr>\n",
       "      <th>SPY US Equity</th>\n",
       "      <td>0.0365</td>\n",
       "      <td>0.0012</td>\n",
       "    </tr>\n",
       "    <tr>\n",
       "      <th>USGG3M Index</th>\n",
       "      <td>0.1463</td>\n",
       "      <td>0.0012</td>\n",
       "    </tr>\n",
       "    <tr>\n",
       "      <th>EEM US Equity</th>\n",
       "      <td>0.0816</td>\n",
       "      <td>0.0012</td>\n",
       "    </tr>\n",
       "    <tr>\n",
       "      <th>EFA US Equity</th>\n",
       "      <td>0.0846</td>\n",
       "      <td>0.0012</td>\n",
       "    </tr>\n",
       "    <tr>\n",
       "      <th>EUO US Equity</th>\n",
       "      <td>0.0288</td>\n",
       "      <td>0.0012</td>\n",
       "    </tr>\n",
       "    <tr>\n",
       "      <th>IWM US Equity</th>\n",
       "      <td>0.1451</td>\n",
       "      <td>0.0012</td>\n",
       "    </tr>\n",
       "  </tbody>\n",
       "</table>\n",
       "</div>"
      ],
      "text/plain": [
       "                beta  intercept\n",
       "SPY US Equity 0.0365     0.0012\n",
       "USGG3M Index  0.1463     0.0012\n",
       "EEM US Equity 0.0816     0.0012\n",
       "EFA US Equity 0.0846     0.0012\n",
       "EUO US Equity 0.0288     0.0012\n",
       "IWM US Equity 0.1451     0.0012"
      ]
     },
     "metadata": {},
     "output_type": "display_data"
    },
    {
     "name": "stdout",
     "output_type": "stream",
     "text": [
      "Model intercept: 0.0012353360960771628\n",
      "Model coefficients: [0.03648332 0.14633597 0.08161123 0.08463804 0.02880573 0.14511063]\n"
     ]
    }
   ],
   "source": [
    "model = LinearRegression(fit_intercept=True)\n",
    "model.fit(merrill_data.values,hfri_data.values)\n",
    "\n",
    "replication_dataframe = pd.DataFrame({\"beta\": model.coef_, \"intercept\": model.intercept_}, index=merrill_data.columns)\n",
    "display(replication_dataframe)\n",
    "print(f\"Model intercept: {model.intercept_}\")\n",
    "print(f\"Model coefficients: {model.coef_}\")"
   ]
  },
  {
   "cell_type": "code",
   "execution_count": 27,
   "id": "50037f81",
   "metadata": {},
   "outputs": [
    {
     "data": {
      "text/plain": [
       "{'Betas': array([0.03648332, 0.14633597, 0.08161123, 0.08463804, 0.02880573,\n",
       "        0.14511063]),\n",
       " 'Intercept': 0.0012353360960771628,\n",
       " 'R-squared': 0.8396762289195675,\n",
       " 'Tracking Error': 0.023739066669173598,\n",
       " 'Treynor Ratio': 0.5540686249924122,\n",
       " 'Information Ratio': 0.18026529118837678,\n",
       " 'Fitted Mean': 0.004024576917344343,\n",
       " 'model': LinearRegression()}"
      ]
     },
     "metadata": {},
     "output_type": "display_data"
    },
    {
     "data": {
      "text/html": [
       "<div>\n",
       "<style scoped>\n",
       "    .dataframe tbody tr th:only-of-type {\n",
       "        vertical-align: middle;\n",
       "    }\n",
       "\n",
       "    .dataframe tbody tr th {\n",
       "        vertical-align: top;\n",
       "    }\n",
       "\n",
       "    .dataframe thead th {\n",
       "        text-align: right;\n",
       "    }\n",
       "</style>\n",
       "<table border=\"1\" class=\"dataframe\">\n",
       "  <thead>\n",
       "    <tr style=\"text-align: right;\">\n",
       "      <th></th>\n",
       "      <th>Beta</th>\n",
       "    </tr>\n",
       "  </thead>\n",
       "  <tbody>\n",
       "    <tr>\n",
       "      <th>SPY US Equity</th>\n",
       "      <td>0.0365</td>\n",
       "    </tr>\n",
       "    <tr>\n",
       "      <th>USGG3M Index</th>\n",
       "      <td>0.1463</td>\n",
       "    </tr>\n",
       "    <tr>\n",
       "      <th>EEM US Equity</th>\n",
       "      <td>0.0816</td>\n",
       "    </tr>\n",
       "    <tr>\n",
       "      <th>EFA US Equity</th>\n",
       "      <td>0.0846</td>\n",
       "    </tr>\n",
       "    <tr>\n",
       "      <th>EUO US Equity</th>\n",
       "      <td>0.0288</td>\n",
       "    </tr>\n",
       "    <tr>\n",
       "      <th>IWM US Equity</th>\n",
       "      <td>0.1451</td>\n",
       "    </tr>\n",
       "  </tbody>\n",
       "</table>\n",
       "</div>"
      ],
      "text/plain": [
       "                Beta\n",
       "SPY US Equity 0.0365\n",
       "USGG3M Index  0.1463\n",
       "EEM US Equity 0.0816\n",
       "EFA US Equity 0.0846\n",
       "EUO US Equity 0.0288\n",
       "IWM US Equity 0.1451"
      ]
     },
     "metadata": {},
     "output_type": "display_data"
    }
   ],
   "source": [
    "display(fa.multivariate_regression_statistics(hfri_data, merrill_data, annual_factor=12)[0])\n",
    "display(fa.multivariate_regression_statistics(hfri_data, merrill_data, annual_factor=12)[1])"
   ]
  },
  {
   "cell_type": "markdown",
   "id": "5ad363c9",
   "metadata": {},
   "source": [
    "The provided beta values for various indices and assets are relatively small in magnitude (ranging from about 0.03 to 0.15).These beta values suggest moderate sensitivity to movements in the securities. These are not excessively large values, which means they do not necessarily imply huge long-short positions. Rather, these betas suggest that the holdings are reasonably sized and could be managed within a typical investment portfolio without requiring extreme leverage or extensive shorting."
   ]
  },
  {
   "cell_type": "code",
   "execution_count": 28,
   "id": "7e19453d",
   "metadata": {},
   "outputs": [
    {
     "name": "stdout",
     "output_type": "stream",
     "text": [
      "Model R2: 0.8396762289195675\n",
      "Model Residuals Volatility: 0.006852878265878925\n"
     ]
    }
   ],
   "source": [
    "# Model Regression coefficient\n",
    "from sklearn.metrics import r2_score\n",
    "model_r2 = r2_score(hfri_data.values, model.predict(merrill_data.values))\n",
    "print(f\"Model R2: {model_r2}\")\n",
    "model_residuals = hfri_data.values - model.predict(merrill_data.values)\n",
    "model_residuals_volatility = np.std(model_residuals)\n",
    "print(f\"Model Residuals Volatility: {model_residuals_volatility}\")"
   ]
  },
  {
   "cell_type": "markdown",
   "id": "9760f909",
   "metadata": {},
   "source": [
    "## 7.\n",
    "\n",
    "Let's examine the replication out-of-sample (OOS).\n",
    "\n",
    "Starting with $t = 61$ month of the sample, do the following:\n",
    "\n",
    "* Use the previous 60 months of data to estimate the regression equation. \n",
    "This gives time-t estimates of the regression parameters, $\\tilde{\\alpha}^{\\merr}_{t}$ and $\\tilde{\\beta}^{\\merr}_{t}$.\n",
    "\n",
    "* Use the estimated regression parameters, along with the time-t regressor values, $x^{\\merr}_{t}$, calculate the time-t replication value that is, with respect to the regression estimate, built \"out-of-sample\" (OOS).\n",
    "\n",
    "$$\\hat{r}^{\\hfri}_{t} \\equiv \\tilde{\\alpha}^{\\merr} + (x_{t}^{\\merr})'\\tilde{\\beta}^{\\merr}$$\n",
    "\n",
    "* Step forward to $t = 62$, and now use $t = 2$ through $t = 61$ for the estimation. Re-run the steps above, and continue this process throughout the data series. Thus, we are running a rolling, 60-month regression for each point-in-time.\n",
    "\n",
    "How well does the out-of-sample replication perform with respect to the target?"
   ]
  },
  {
   "cell_type": "code",
   "execution_count": 29,
   "id": "6ee9c25a",
   "metadata": {},
   "outputs": [
    {
     "name": "stdout",
     "output_type": "stream",
     "text": [
      "Out-of-Sample Rolling Regression Statistics:\n",
      "OOS R2: 0.7994295353835903\n",
      "Total Predictions: 98\n",
      "Mean OOS Prediction Error: 0.0013060019042365055\n"
     ]
    },
    {
     "data": {
      "text/plain": [
       "Date\n",
       "2016-08-31    0.0050\n",
       "2016-09-30    0.0050\n",
       "2016-10-31   -0.0044\n",
       "2016-11-30    0.0117\n",
       "2016-12-31    0.0076\n",
       "               ...  \n",
       "2024-05-31    0.0165\n",
       "2024-06-30    0.0033\n",
       "2024-07-31    0.0275\n",
       "2024-08-31   -0.0006\n",
       "2024-09-30    0.0101\n",
       "Length: 98, dtype: float64"
      ]
     },
     "metadata": {},
     "output_type": "display_data"
    }
   ],
   "source": [
    "window_size = 60\n",
    "from sklearn.metrics import r2_score\n",
    "oos_stats, oos_results = fa.one_step_OOS_rolling_regression(merrill_data, hfri_data, window_size)\n",
    "\n",
    "# Display results\n",
    "print(\"Out-of-Sample Rolling Regression Statistics:\")\n",
    "for key, value in oos_stats.items():\n",
    "    print(f\"{key}: {value}\")\n",
    "display(oos_results)"
   ]
  },
  {
   "cell_type": "code",
   "execution_count": 30,
   "id": "db871c53",
   "metadata": {},
   "outputs": [
    {
     "name": "stdout",
     "output_type": "stream",
     "text": [
      "Min correlation is between 'Replicated' and 'Original' with a coefficient of 0.8975789\n"
     ]
    },
    {
     "data": {
      "text/plain": [
       "('Replicated', 'Original', 0.8975789048014745)"
      ]
     },
     "execution_count": 30,
     "metadata": {},
     "output_type": "execute_result"
    }
   ],
   "source": [
    "combined_OOS = pd.concat([oos_results.to_frame(\"Replicated\"),hfri_data.to_frame(\"Original\")], axis = 1).dropna()\n",
    "fa.find_corr(combined_OOS.corr(),type=\"min\")"
   ]
  },
  {
   "cell_type": "code",
   "execution_count": 31,
   "id": "023c7b04",
   "metadata": {},
   "outputs": [
    {
     "data": {
      "text/plain": [
       "Date\n",
       "2016-08-31    0.0050\n",
       "2016-09-30    0.0050\n",
       "2016-10-31   -0.0044\n",
       "2016-11-30    0.0117\n",
       "2016-12-31    0.0076\n",
       "               ...  \n",
       "2024-05-31    0.0165\n",
       "2024-06-30    0.0033\n",
       "2024-07-31    0.0275\n",
       "2024-08-31   -0.0006\n",
       "2024-09-30    0.0101\n",
       "Length: 98, dtype: float64"
      ]
     },
     "execution_count": 31,
     "metadata": {},
     "output_type": "execute_result"
    }
   ],
   "source": [
    "from typing import Tuple\n",
    "from statsmodels.regression.rolling import RollingOLS\n",
    "from statsmodels.tools.tools import add_constant\n",
    "import statsmodels.api as sm\n",
    "def simplified_rolling_ols_regression(\n",
    "    feature_data: pd.DataFrame, \n",
    "    target_data: pd.Series, \n",
    "    window_size: int,\n",
    "    intercept: bool = True\n",
    ") -> Tuple[float, pd.DataFrame, pd.Series, pd.DataFrame]:\n",
    "    \"\"\"\n",
    "    Perform a simplified rolling regression using `RollingOLS` from `statsmodels` and calculate out-of-sample R-squared.\n",
    "    \n",
    "    This function fits rolling linear regression models over a specified window size and computes replication performance \n",
    "    based on the rolling betas. It then calculates the OOS R-squared statistic to assess the predictive performance \n",
    "    and provides a correlation matrix between the actual and replicated data.\n",
    "    \n",
    "    Parameters:\n",
    "    ----------\n",
    "    feature_data : pd.DataFrame\n",
    "        DataFrame containing the independent variables (factors) used for regression.\n",
    "        \n",
    "    target_data : pd.Series\n",
    "        Series containing the dependent variable (e.g., HFRI index or any other target).\n",
    "        \n",
    "    window_size : int\n",
    "        The size of the rolling window used for training the regression model.\n",
    "        \n",
    "    intercept : bool, optional (default=True)\n",
    "        If True, includes an intercept term in the regression; if False, no intercept will be included.\n",
    "        \n",
    "    Returns:\n",
    "    -------\n",
    "    Tuple[float, pd.DataFrame, pd.Series, pd.DataFrame]\n",
    "        - float: Out-of-Sample R-squared (OOS R2)\n",
    "        - pd.DataFrame: DataFrame containing the rolling betas from the regression.\n",
    "        - pd.Series: Series containing the replicated returns based on rolling predictions.\n",
    "        - pd.DataFrame: Correlation matrix between actual and replicated OOS data.\n",
    "    \n",
    "    Explanation:\n",
    "    ------------\n",
    "    The function uses `RollingOLS` to fit rolling window regression models and predict target values based on a \n",
    "    rolling set of beta coefficients. It calculates the OOS R-squared to evaluate the predictive accuracy of the model.\n",
    "    Additionally, the function computes the correlation between the actual and predicted OOS values to assess the strength \n",
    "    of their linear relationship.\n",
    "    \n",
    "    Usage:\n",
    "    -----\n",
    "    window_size = 60\n",
    "    oos_r2, rolling_betas, replicated_rolling, oos_correlation = simplified_rolling_ols_regression(\n",
    "        feature_data=merrill_data, \n",
    "        target_data=hfri_data, \n",
    "        window_size=window_size,\n",
    "        intercept=True\n",
    "    )\n",
    "    \n",
    "    print(f\"The Out-of-Sample R-Squared of the replication is {round(oos_r2, 4)}\")\n",
    "    print(\"\\nRolling Betas:\")\n",
    "    display(rolling_betas.head())\n",
    "    \n",
    "    print(\"\\nReplicated Returns Based on Rolling Predictions:\")\n",
    "    display(replicated_rolling.head())\n",
    "    \n",
    "    print(\"\\nCorrelation Matrix Between Actual and Replicated OOS Data:\")\n",
    "    display(oos_correlation)\n",
    "    \"\"\"\n",
    "    \n",
    "    # Optionally add a constant to the feature data for the intercept term\n",
    "    if intercept:\n",
    "        feature_data = sm.add_constant(feature_data)\n",
    "    \n",
    "    # Fit the rolling OLS model\n",
    "    rolling_model = RollingOLS(target_data, feature_data, window=window_size).fit()\n",
    "    \n",
    "    # Extract rolling betas (coefficients)\n",
    "    rolling_betas = rolling_model.params\n",
    "    \n",
    "    # Calculate replicated values using the rolling betas shifted by one period (to avoid look-ahead bias)\n",
    "    replicated_rolling = (rolling_betas.shift() * feature_data).dropna().sum(axis=1)\n",
    "    \n",
    "    # Calculate OOS loss and OOS R-squared\n",
    "    oos_loss = ((target_data.loc[replicated_rolling.index] - replicated_rolling) ** 2).sum()\n",
    "    oos_mean = target_data.loc[replicated_rolling.index].dropna().mean()\n",
    "    oos_loss_null = ((target_data.loc[replicated_rolling.index].dropna() - oos_mean) ** 2).sum()\n",
    "    oos_r2 = 1 - (oos_loss / oos_loss_null)\n",
    "    \n",
    "    # Correlation matrix between actual and replicated OOS data\n",
    "    actual_vs_replication = pd.DataFrame({\n",
    "        \"Actual\": target_data.loc[replicated_rolling.index],\n",
    "        \"Replicated\": replicated_rolling\n",
    "    })\n",
    "    oos_correlation = actual_vs_replication.corr()\n",
    "    \n",
    "    return oos_r2, rolling_betas, replicated_rolling, oos_correlation\n",
    "\n",
    "\n",
    "simplified_rolling_ols_regression(merrill_data, hfri_data, window_size=60)[2]"
   ]
  },
  {
   "cell_type": "code",
   "execution_count": 32,
   "id": "654d59ab",
   "metadata": {},
   "outputs": [
    {
     "data": {
      "text/plain": [
       "array([ 0,  1,  2,  3,  4,  5,  6,  7,  8,  9, 10, 11, 12, 13, 14, 15, 16,\n",
       "       17, 18, 19, 20, 21, 22, 23, 24, 25, 26, 27, 28, 29, 30, 31, 32, 33,\n",
       "       34, 35, 36, 37, 38, 39, 40, 41, 42, 43, 44, 45, 46, 47, 48, 49, 50,\n",
       "       51, 52, 53, 54, 55, 56, 57, 58, 59, 60, 61, 62, 63, 64, 65, 66, 67,\n",
       "       68, 69, 70, 71, 72, 73, 74, 75, 76, 77, 78, 79, 80, 81, 82, 83, 84,\n",
       "       85, 86, 87, 88, 89, 90, 91, 92, 93, 94, 95, 96, 97])"
      ]
     },
     "execution_count": 32,
     "metadata": {},
     "output_type": "execute_result"
    }
   ],
   "source": [
    "# time series k fold validation\n",
    "df = merrill_data\n",
    "window_size = 60 # 0 to 59, 1 to 60, 2 to 61, 3 to 62, 4 to 63\n",
    "start_index = np.arange(0,len(df)-window_size, 1)\n",
    "\n",
    "if not np.equal(start_index[-1]+window_size, len(df)-1):\n",
    "    raise ValueError(\"Window size is incorrect\")\n",
    "start_index\n"
   ]
  },
  {
   "cell_type": "code",
   "execution_count": 33,
   "id": "f3bd2f9d",
   "metadata": {},
   "outputs": [
    {
     "name": "stdout",
     "output_type": "stream",
     "text": [
      "98\n",
      "\n",
      "\n"
     ]
    }
   ],
   "source": [
    "import dask\n",
    "from dask.delayed import delayed\n",
    "from dask.distributed import Client\n",
    "# from dask.distributed import as_completed\n",
    "from dask.distributed import wait\n",
    "\n",
    "def train_model(feature_data : pd.DataFrame, target_data:pd.DataFrame, start_index: int, window_size: int):\n",
    "    model = LinearRegression(fit_intercept=True)\n",
    "    model.fit(X=feature_data.iloc[start_index:start_index+window_size].values, y=target_data.iloc[start_index:start_index+window_size].values)\n",
    "    predictions = model.predict(feature_data.iloc[start_index+window_size].values.reshape(1,-1))\n",
    "    return predictions\n",
    "\n",
    "try:\n",
    "    with Client(n_workers=3, threads_per_worker=4) as client:\n",
    "        futures = [client.submit(train_model, merrill_data, hfri_data, start, window_size) for start in start_index]\n",
    "        wait(futures, return_when=\"ALL_COMPLETED\")\n",
    "        results = client.gather(futures)\n",
    "        print(len(results))\n",
    "        print(\"\\n\")\n",
    "        results = np.array(results).flatten()\n",
    "except Exception as e:\n",
    "    print(e)\n",
    "\n",
    "    "
   ]
  },
  {
   "cell_type": "code",
   "execution_count": 34,
   "id": "7b2ab4f1",
   "metadata": {},
   "outputs": [
    {
     "data": {
      "text/plain": [
       "array([ 0.00496636,  0.0050011 , -0.00444889,  0.01165077,  0.00764977,\n",
       "        0.00950564,  0.01090193,  0.00718178,  0.00557463,  0.00526625,\n",
       "        0.003837  ,  0.00714654,  0.00100138,  0.01100617,  0.00768097,\n",
       "        0.00634118,  0.00499321,  0.01799296, -0.01017987, -0.00150176,\n",
       "        0.00302242,  0.00609724, -0.0016415 ,  0.01182305,  0.00242938,\n",
       "        0.00047921, -0.02729248,  0.00617057, -0.02697906,  0.02777015,\n",
       "        0.00875785,  0.00244966,  0.01147581, -0.02227185,  0.02222494,\n",
       "       -0.00010827, -0.00862836,  0.00940994,  0.00993867,  0.00879401,\n",
       "        0.01328346, -0.00925107, -0.02391707, -0.05370424,  0.03712974,\n",
       "        0.01868731,  0.01400611,  0.01431179,  0.01947944, -0.0102375 ,\n",
       "       -0.00111069,  0.05369374,  0.02526524,  0.01024713,  0.0153661 ,\n",
       "        0.01074847,  0.01136646,  0.00815391,  0.00742157, -0.00689285,\n",
       "        0.01127054, -0.01197477,  0.01790041, -0.01326929,  0.01435387,\n",
       "       -0.02005393, -0.00372389,  0.00292505, -0.03092407,  0.00489233,\n",
       "       -0.02855553,  0.02738238, -0.01225475, -0.03983062,  0.02410037,\n",
       "        0.02888831, -0.02232287,  0.0320683 , -0.01465014, -0.01084605,\n",
       "       -0.00600866, -0.00824149,  0.0227197 ,  0.01952446, -0.01966061,\n",
       "       -0.01636997, -0.01849166,  0.03030307,  0.0341465 , -0.01195587,\n",
       "        0.01962025,  0.01383484, -0.01327909,  0.01648825,  0.00334313,\n",
       "        0.02749356, -0.00057896,  0.01013656])"
      ]
     },
     "execution_count": 34,
     "metadata": {},
     "output_type": "execute_result"
    }
   ],
   "source": [
    "results"
   ]
  },
  {
   "cell_type": "code",
   "execution_count": 35,
   "id": "4e92df7c",
   "metadata": {},
   "outputs": [
    {
     "name": "stdout",
     "output_type": "stream",
     "text": [
      "Validation passed\n"
     ]
    }
   ],
   "source": [
    "# Number of rolling windows\n",
    "num_windows = hfri_data.shape[0] - window_size\n",
    "cond2 = num_windows == len(results)\n",
    "model = LinearRegression(fit_intercept=True)\n",
    "model.fit(merrill_data.iloc[:window_size].values, hfri_data.iloc[:window_size].values)\n",
    "cond1 = float(model.predict(merrill_data.iloc[window_size].values.reshape(1,-1))) == results[0]\n",
    "\n",
    "if cond1 and cond2:\n",
    "    print(\"Validation passed\")\n",
    "else:\n",
    "    raise ValueError(\"Validation failed\")"
   ]
  },
  {
   "cell_type": "code",
   "execution_count": 36,
   "id": "715e266c",
   "metadata": {},
   "outputs": [
    {
     "name": "stdout",
     "output_type": "stream",
     "text": [
      "Out of sample R2: 0.7994295353835903\n"
     ]
    }
   ],
   "source": [
    "OOS_r2 = r2_score(hfri_data[window_size:].values, results)\n",
    "print(f\"Out of sample R2: {OOS_r2}\")"
   ]
  },
  {
   "cell_type": "markdown",
   "id": "a8cf599d",
   "metadata": {},
   "source": [
    "The OOS R2 results is significantly worse than the in sample R2 results."
   ]
  },
  {
   "cell_type": "markdown",
   "id": "2041c6a8",
   "metadata": {},
   "source": [
    "## 8.\n",
    "\n",
    "We estimated the replications using an intercept. Try the full-sample estimation, but this time without an intercept.\n",
    "\n",
    "$$\\begin{align}\n",
    "r^{\\hfri}_{t} &= \\alpha^{merr} + x_{t}^{\\merr}\\beta^{\\merr} + \\epsilon_{t}^{\\merr}\\\\[5pt]\n",
    "\\check{r}^{\\hfri}_{t} &= \\check{\\alpha}^{\\merr} + x_{t}^{\\merr}\\check{\\beta}^{\\merr}\n",
    "\\end{align}$$\n",
    "\n",
    "Report\n",
    "\n",
    "* the regression beta. How does it compare to the estimated beta with an intercept, $\\hat{\\beta}^{\\merr}$?\n",
    "\n",
    "* the mean of the fitted value, $\\check{r}^{\\hfri}_{t}$. How does it compare to the mean of the HFRI?\n",
    "\n",
    "* the correlations of the fitted values, $\\check{r}^{\\hfri}_{t}$ to the HFRI. How does the correlation compare to that of the fitted values with an intercept, $\\hat{r}^{\\hfri}_{t}$\n",
    "\n",
    "Do you think Merrill and ProShares fit their replicators with an intercept or not?"
   ]
  },
  {
   "cell_type": "code",
   "execution_count": 37,
   "id": "3c9d1061",
   "metadata": {},
   "outputs": [
    {
     "data": {
      "text/plain": [
       "{'Betas': array([0.05066718, 0.4993357 , 0.08086555, 0.07914571, 0.03137321,\n",
       "        0.14265099]),\n",
       " 'Intercept': 0,\n",
       " 'R-squared': 0.8366002573430684,\n",
       " 'Tracking Error': 0.023832157600712032,\n",
       " 'Treynor Ratio': 0.3277793802070021,\n",
       " 'Information Ratio': 0.0,\n",
       " 'Fitted Mean': 0.003295211275663278,\n",
       " 'model': LinearRegression(fit_intercept=False)}"
      ]
     },
     "execution_count": 37,
     "metadata": {},
     "output_type": "execute_result"
    }
   ],
   "source": [
    "fa.multivariate_regression_statistics(hfri_data, merrill_data, annual_factor=12,intercept=False)[0]"
   ]
  },
  {
   "cell_type": "code",
   "execution_count": 44,
   "id": "ffbbe5b3",
   "metadata": {},
   "outputs": [],
   "source": [
    "model_fitted = fa.multivariate_regression_statistics(hfri_data, merrill_data, annual_factor=12,intercept=False)[0][\"model\"]"
   ]
  },
  {
   "cell_type": "code",
   "execution_count": 49,
   "id": "ab3a623d",
   "metadata": {},
   "outputs": [
    {
     "data": {
      "text/plain": [
       "0.9156937941419588"
      ]
     },
     "execution_count": 49,
     "metadata": {},
     "output_type": "execute_result"
    }
   ],
   "source": [
    "fitted = model_fitted.predict(merrill_data)\n",
    "np.corrcoef(hfri_data,fitted.flatten())[0,1]"
   ]
  },
  {
   "cell_type": "code",
   "execution_count": 38,
   "id": "e309ce6f",
   "metadata": {},
   "outputs": [
    {
     "data": {
      "text/html": [
       "<div>\n",
       "<style scoped>\n",
       "    .dataframe tbody tr th:only-of-type {\n",
       "        vertical-align: middle;\n",
       "    }\n",
       "\n",
       "    .dataframe tbody tr th {\n",
       "        vertical-align: top;\n",
       "    }\n",
       "\n",
       "    .dataframe thead th {\n",
       "        text-align: right;\n",
       "    }\n",
       "</style>\n",
       "<table border=\"1\" class=\"dataframe\">\n",
       "  <thead>\n",
       "    <tr style=\"text-align: right;\">\n",
       "      <th></th>\n",
       "      <th>beta_without_intercept</th>\n",
       "      <th>beta_with_intercept</th>\n",
       "    </tr>\n",
       "  </thead>\n",
       "  <tbody>\n",
       "    <tr>\n",
       "      <th>SPY US Equity</th>\n",
       "      <td>0.0507</td>\n",
       "      <td>0.0365</td>\n",
       "    </tr>\n",
       "    <tr>\n",
       "      <th>USGG3M Index</th>\n",
       "      <td>0.4993</td>\n",
       "      <td>0.1463</td>\n",
       "    </tr>\n",
       "    <tr>\n",
       "      <th>EEM US Equity</th>\n",
       "      <td>0.0809</td>\n",
       "      <td>0.0816</td>\n",
       "    </tr>\n",
       "    <tr>\n",
       "      <th>EFA US Equity</th>\n",
       "      <td>0.0791</td>\n",
       "      <td>0.0846</td>\n",
       "    </tr>\n",
       "    <tr>\n",
       "      <th>EUO US Equity</th>\n",
       "      <td>0.0314</td>\n",
       "      <td>0.0288</td>\n",
       "    </tr>\n",
       "    <tr>\n",
       "      <th>IWM US Equity</th>\n",
       "      <td>0.1427</td>\n",
       "      <td>0.1451</td>\n",
       "    </tr>\n",
       "  </tbody>\n",
       "</table>\n",
       "</div>"
      ],
      "text/plain": [
       "               beta_without_intercept  beta_with_intercept\n",
       "SPY US Equity                  0.0507               0.0365\n",
       "USGG3M Index                   0.4993               0.1463\n",
       "EEM US Equity                  0.0809               0.0816\n",
       "EFA US Equity                  0.0791               0.0846\n",
       "EUO US Equity                  0.0314               0.0288\n",
       "IWM US Equity                  0.1427               0.1451"
      ]
     },
     "metadata": {},
     "output_type": "display_data"
    },
    {
     "name": "stdout",
     "output_type": "stream",
     "text": [
      " \n",
      "      The betas are different with and without the inclusion of the intercept term as the inclusion of intercept accounts for the levels in the data, \n",
      "      meaning that the beta focuses on explaining the variance in the target variable and not the overall level. Without the intercept, the Hedge fund index sensitivity to\n",
      "      the changes in SPY index, USGG3M Index and the EUO US Equity are higher than with the intercept term. The impact on the beta of the USGG3M index is the most significant.\n",
      "      \n",
      "      \n",
      "      \n"
     ]
    },
    {
     "data": {
      "image/png": "[encoded data removed]",
      "text/plain": [
       "<Figure size 1000x500 with 1 Axes>"
      ]
     },
     "metadata": {},
     "output_type": "display_data"
    }
   ],
   "source": [
    "model_without = LinearRegression(fit_intercept=False)\n",
    "model_without.fit(merrill_data.values,hfri_data.values)\n",
    "model_with = LinearRegression(fit_intercept=True)\n",
    "model_with.fit(merrill_data.values,hfri_data.values)\n",
    "\n",
    "replication_dataframe = pd.DataFrame({\"beta_without_intercept\": model_without.coef_, \"beta_with_intercept\": model_with.coef_}, index=merrill_data.columns)\n",
    "display(replication_dataframe)\n",
    "\n",
    "print(''' \n",
    "      The betas are different with and without the inclusion of the intercept term as the inclusion of intercept accounts for the levels in the data, \n",
    "      meaning that the beta focuses on explaining the variance in the target variable and not the overall level. Without the intercept, the Hedge fund index sensitivity to\n",
    "      the changes in SPY index, USGG3M Index and the EUO US Equity are higher than with the intercept term. The impact on the beta of the USGG3M index is the most significant.\n",
    "      \n",
    "      \n",
    "      ''')\n",
    "\n",
    "plt.figure(figsize=(10,5))\n",
    "plt.plot(hfri_data.index, hfri_data.values, label=\"HFRI Index\")\n",
    "plt.scatter(merrill_data.index, model_without.predict(merrill_data.values), label=\"Without Intercept\",color=\"red\")\n",
    "plt.scatter(merrill_data.index, model_with.predict(merrill_data.values), label=\"With Intercept\", color=\"green\")\n",
    "plt.show()"
   ]
  },
  {
   "cell_type": "code",
   "execution_count": 39,
   "id": "dfb37ff2",
   "metadata": {},
   "outputs": [
    {
     "name": "stdout",
     "output_type": "stream",
     "text": [
      "Mean of fitted values without intercept: 0.003295211275663278\n",
      "\n",
      "\n",
      "Actual mean of target data hfri: 0.004024576917344342\n"
     ]
    }
   ],
   "source": [
    "fitted_mean_without = model_without.predict(merrill_data.values)\n",
    "fitted_mean_without_mean = fitted_mean_without.mean()\n",
    "fitted_mean_with = model_with.predict(merrill_data.values)\n",
    "fitted_mean_with_mean = fitted_mean_with.mean()\n",
    "print(f\"Mean of fitted values without intercept: {fitted_mean_without_mean}\")\n",
    "print(\"\\n\")\n",
    "print(f\"Actual mean of target data hfri: {hfri_data.mean()}\")"
   ]
  },
  {
   "cell_type": "code",
   "execution_count": 40,
   "id": "ba62077e",
   "metadata": {},
   "outputs": [
    {
     "name": "stdout",
     "output_type": "stream",
     "text": [
      "Correlation between fitted values without intercept and target data: 0.9156937941419588\n",
      "\n",
      "\n",
      "Correlation between fitted values with intercept and target data: 0.9163384903623589\n"
     ]
    }
   ],
   "source": [
    "fitted_mean_without_corr = np.corrcoef(hfri_data.values, fitted_mean_without)\n",
    "fitted_mean_with_corr = np.corrcoef(hfri_data.values, fitted_mean_with)\n",
    "print(f\"Correlation between fitted values without intercept and target data: {fitted_mean_without_corr[0,1]}\")\n",
    "print(\"\\n\")\n",
    "print(f\"Correlation between fitted values with intercept and target data: {fitted_mean_with_corr[0,1]}\")"
   ]
  },
  {
   "cell_type": "markdown",
   "id": "eb99ee46",
   "metadata": {},
   "source": [
    "Intercept should be included to explain the difference in levels. Inclusion of intercept also leads to better statistical correlation with the HFRI Index."
   ]
  },
  {
   "cell_type": "markdown",
   "id": "f7433d2f",
   "metadata": {},
   "source": [
    "***"
   ]
  },
  {
   "cell_type": "markdown",
   "id": "4f5883f2",
   "metadata": {},
   "source": [
    "# 3.  Extensions\n",
    "<i>This section is not graded, and you do not need to submit it. Still, we may discuss it in class, in which case, you would be expected to know it."
   ]
  },
  {
   "cell_type": "markdown",
   "id": "2c042de1",
   "metadata": {},
   "source": [
    "## 1. \n",
    "\n",
    "Merrill constrains the weights of each asset in its replication regression of HFRI. Try constraining your weights by re-doing 2.6.\n",
    "\n",
    "* Use Non-Negative Least Squares (NNLS) instead of OLS.\n",
    "* Go further by using a Generalized Linear Model to put separate interval constraints on each beta, rather than simply constraining them to be non-negative.\n",
    "\n",
    "#### Hints\n",
    "* Try using LinearRegression in scikit-learn with the parameter `positive=True`. \n",
    "* Try using GLM in statsmodels."
   ]
  },
  {
   "cell_type": "code",
   "execution_count": 41,
   "id": "d0c2b575",
   "metadata": {},
   "outputs": [],
   "source": [
    "import statsmodels.api as sm\n",
    "model = LinearRegression(fit_intercept=True,positive=True)\n",
    "model.fit(X=merrill_data.values, y=hfri_data.values)\n",
    "exog = sm.add_constant(merrill_data.values)\n",
    "# model_glm = sm.GLM(endog=hfri_data.values, exog=exog, family=sm.families.Gaussian())\n",
    "# model_glm.fit_constrained(())"
   ]
  },
  {
   "cell_type": "code",
   "execution_count": 42,
   "id": "8e272fdd",
   "metadata": {},
   "outputs": [
    {
     "data": {
      "text/plain": [
       "Index(['SPY US Equity', 'USGG3M Index', 'EEM US Equity', 'EFA US Equity',\n",
       "       'EUO US Equity', 'IWM US Equity'],\n",
       "      dtype='object')"
      ]
     },
     "execution_count": 42,
     "metadata": {},
     "output_type": "execute_result"
    }
   ],
   "source": [
    "merrill_data.columns"
   ]
  },
  {
   "cell_type": "markdown",
   "id": "02ee228d",
   "metadata": {},
   "source": [
    "## 2. \n",
    "\n",
    "Let's decompose a few other targets to see if they behave as their name suggests.\n",
    "\n",
    "* Regress HEFA on the same style factors used to decompose HFRI. Does HEFA appear to be a currency-hedged version of EFA?\n",
    "\n",
    "* Decompose TRVCI with the same style factors used to decompose HFRI. The TRVCI Index tracks venture capital funds--in terms of our styles, what best describes venture capital?\n",
    "\n",
    "* TAIL is an ETF that tracks SPY, but that also buys put options to protect against market downturns. Calculate the statistics in questions 2.1-2.3 for TAIL. Does it seem to behave as indicated by this description? That is, does it have high correlation to SPY while delivering lower tail risk?"
   ]
  },
  {
   "cell_type": "code",
   "execution_count": 43,
   "id": "3e740931",
   "metadata": {},
   "outputs": [
    {
     "name": "stdout",
     "output_type": "stream",
     "text": [
      "File not found.\n"
     ]
    },
    {
     "ename": "TypeError",
     "evalue": "'NoneType' object is not subscriptable",
     "output_type": "error",
     "traceback": [
      "\u001b[1;31m---------------------------------------------------------------------------\u001b[0m",
      "\u001b[1;31mTypeError\u001b[0m                                 Traceback (most recent call last)",
      "Cell \u001b[1;32mIn[43], line 2\u001b[0m\n\u001b[0;32m      1\u001b[0m other_data \u001b[38;5;241m=\u001b[39m load_data(sheet_name\u001b[38;5;241m=\u001b[39m\u001b[38;5;124m\"\u001b[39m\u001b[38;5;124mother_data\u001b[39m\u001b[38;5;124m\"\u001b[39m)\n\u001b[1;32m----> 2\u001b[0m hefa \u001b[38;5;241m=\u001b[39m \u001b[43mother_data\u001b[49m\u001b[43m[\u001b[49m\u001b[38;5;124;43m\"\u001b[39;49m\u001b[38;5;124;43mHEFA US Equity\u001b[39;49m\u001b[38;5;124;43m\"\u001b[39;49m\u001b[43m]\u001b[49m\n\u001b[0;32m      3\u001b[0m merged_data \u001b[38;5;241m=\u001b[39m pd\u001b[38;5;241m.\u001b[39mconcat([merrill_data, hefa], axis \u001b[38;5;241m=\u001b[39m \u001b[38;5;241m1\u001b[39m)\u001b[38;5;241m.\u001b[39mdropna()\n\u001b[0;32m      4\u001b[0m model \u001b[38;5;241m=\u001b[39m LinearRegression(fit_intercept\u001b[38;5;241m=\u001b[39m\u001b[38;5;28;01mTrue\u001b[39;00m)\n",
      "\u001b[1;31mTypeError\u001b[0m: 'NoneType' object is not subscriptable"
     ]
    }
   ],
   "source": [
    "other_data = load_data(sheet_name=\"other_data\")\n",
    "hefa = other_data[\"HEFA US Equity\"]\n",
    "merged_data = pd.concat([merrill_data, hefa], axis = 1).dropna()\n",
    "model = LinearRegression(fit_intercept=True)\n",
    "model.fit(X = merged_data.drop(\"HEFA US Equity\", axis =1), y=merged_data[\"HEFA US Equity\"])\n",
    "\n",
    "display(pd.DataFrame({\"beta\": model.coef_}, index=merged_data.columns[:-1]))\n"
   ]
  },
  {
   "cell_type": "markdown",
   "id": "af4720dd",
   "metadata": {},
   "source": [
    "In the case of HEFA (iShares Currency Hedged MSCI EAFE ETF), it is designed to provide exposure to equity securities in Europe, Australasia, and the Far East, while mitigating exposure to fluctuations between the value of the U.S. dollar and other international currencies. The regression analysis supports the premise that HEFA behaves as a currency-hedged version of EFA. The significant beta associated with EFA and a considerable hedging component against the euro (via EUO US Equity) clearly align with HEFA’s stated goal of mirroring the performance of EFA while mitigating the impact of currency fluctuations between the euro and the U.S. dollar. This strong positive beta indicates that HEFA is highly correlated with the iShares MSCI EAFE ETF, which is expected as HEFA is essentially a currency-hedged version of EFA. This coefficient suggests that movements in EFA are closely mirrored by HEFA, adjusted for currency effects. Currency hedging in this context is used to protect against the risk that the dollar will strengthen against foreign currencies. If the dollar strengthens, the return on investments denominated in foreign currencies would be lower when converted back to dollars. By hedging the currency risk, HEFA seeks to offer investors the returns of the EAFE Index equities, irrespective of currency fluctuations. EUO US Equity (0.339730): This positive beta with the ProShares UltraShort Euro, which gains when the euro weakens against the dollar, supports the notion that HEFA includes a significant component of hedging against the euro. Since HEFA aims to hedge currency risk, a positive relationship with an instrument that benefits from a weaker euro is logical."
   ]
  },
  {
   "cell_type": "code",
   "execution_count": 33,
   "id": "11d1e3c3",
   "metadata": {},
   "outputs": [
    {
     "data": {
      "text/html": [
       "<div>\n",
       "<style scoped>\n",
       "    .dataframe tbody tr th:only-of-type {\n",
       "        vertical-align: middle;\n",
       "    }\n",
       "\n",
       "    .dataframe tbody tr th {\n",
       "        vertical-align: top;\n",
       "    }\n",
       "\n",
       "    .dataframe thead th {\n",
       "        text-align: right;\n",
       "    }\n",
       "</style>\n",
       "<table border=\"1\" class=\"dataframe\">\n",
       "  <thead>\n",
       "    <tr style=\"text-align: right;\">\n",
       "      <th></th>\n",
       "      <th>beta</th>\n",
       "    </tr>\n",
       "  </thead>\n",
       "  <tbody>\n",
       "    <tr>\n",
       "      <th>SPY US Equity</th>\n",
       "      <td>1.974144</td>\n",
       "    </tr>\n",
       "    <tr>\n",
       "      <th>USGG3M Index</th>\n",
       "      <td>0.174108</td>\n",
       "    </tr>\n",
       "    <tr>\n",
       "      <th>EEM US Equity</th>\n",
       "      <td>-0.051749</td>\n",
       "    </tr>\n",
       "    <tr>\n",
       "      <th>EFA US Equity</th>\n",
       "      <td>-0.144986</td>\n",
       "    </tr>\n",
       "    <tr>\n",
       "      <th>EUO US Equity</th>\n",
       "      <td>-0.055075</td>\n",
       "    </tr>\n",
       "    <tr>\n",
       "      <th>IWM US Equity</th>\n",
       "      <td>-0.242511</td>\n",
       "    </tr>\n",
       "  </tbody>\n",
       "</table>\n",
       "</div>"
      ],
      "text/plain": [
       "                   beta\n",
       "SPY US Equity  1.974144\n",
       "USGG3M Index   0.174108\n",
       "EEM US Equity -0.051749\n",
       "EFA US Equity -0.144986\n",
       "EUO US Equity -0.055075\n",
       "IWM US Equity -0.242511"
      ]
     },
     "metadata": {},
     "output_type": "display_data"
    }
   ],
   "source": [
    "other_data = load_data(sheet_name=\"other_data\")\n",
    "hefa = other_data[\"TRVCI Index\"]\n",
    "merged_data = pd.concat([merrill_data, hefa], axis = 1).dropna()\n",
    "model = LinearRegression(fit_intercept=True)\n",
    "model.fit(X = merged_data.drop(\"TRVCI Index\", axis =1), y=merged_data[\"TRVCI Index\"])\n",
    "\n",
    "display(pd.DataFrame({\"beta\": model.coef_}, index=merged_data.columns[:-1]))"
   ]
  },
  {
   "cell_type": "markdown",
   "id": "5e8d15a9",
   "metadata": {},
   "source": [
    "Based on the beta coefficients, venture capital (as tracked by the TRVCI Index) appears to be most significantly described by its sensitivity to large-cap U.S. equities (SPY). The high beta with SPY suggests that venture capital returns are closely tied to the broader U.S. equity market, reflecting perhaps a high degree of risk but also potentially higher returns during market upswings. The negative coefficients with other international and small-cap equities indicate that venture capital might provide diversification benefits in a global or varied equity portfolio, acting differently from these market segments.\n",
    "\n",
    "Venture capital investments are distinct from traditional equity investments due to their focus on high-growth, early-stage companies, often in innovative sectors. The sensitivity to the broader market might reflect the fact that venture capital funding rounds and exits (via IPOs or acquisitions) are influenced by overall market conditions, investor sentiment, and economic cycles."
   ]
  },
  {
   "cell_type": "code",
   "execution_count": 136,
   "id": "8a6d2349",
   "metadata": {},
   "outputs": [
    {
     "name": "stdout",
     "output_type": "stream",
     "text": [
      "Summary Statistics\n",
      "\n",
      "\n"
     ]
    },
    {
     "data": {
      "text/plain": [
       "array([-0.04642544, -0.06691089,  1.03507607,  3.0910274 ])"
      ]
     },
     "metadata": {},
     "output_type": "display_data"
    },
    {
     "name": "stdout",
     "output_type": "stream",
     "text": [
      "Model beta: [-0.49037423]\n",
      "Model intercept: -0.00010220074476314806\n",
      "Model R2: 0.5086156905690934\n"
     ]
    }
   ],
   "source": [
    "\n",
    "tail = other_data.loc[:,\"TAIL US Equity\"]\n",
    "data = tail.dropna()\n",
    "\n",
    "VaR = get_VaR(data, alpha = 0.05)\n",
    "CVaR = get_CVaR(data, alpha = 0.05)\n",
    "data_excess_mean = data - data.mean(axis = 0)\n",
    "skew_val = ((data_excess_mean)**3).sum(axis = 0) / ((data.std(axis = 0))**3 * (len(data)-1))\n",
    "kurt_val = ((data_excess_mean)**4).sum(axis = 0) / ((data.std(axis = 0))**4 * (len(data)-1)) - 3\n",
    "stats = np.stack([VaR, CVaR, skew_val, kurt_val])\n",
    "print(\"Summary Statistics\")\n",
    "print(\"\\n\")\n",
    "display(stats)\n",
    "\n",
    "# \n",
    "combined_data = pd.concat([spy_data, tail], axis = 1).dropna()\n",
    "model = LinearRegression(fit_intercept=True)\n",
    "model.fit(X = combined_data[\"SPY US Equity\"].values.reshape(-1,1), y=combined_data[\"TAIL US Equity\"].values)\n",
    "print(f\"Model beta: {model.coef_}\")\n",
    "print(f\"Model intercept: {model.intercept_}\")\n",
    "r2_score = r2_score(combined_data[\"TAIL US Equity\"].values, model.predict(combined_data[\"SPY US Equity\"].values.reshape(-1,1)))\n",
    "print(f\"Model R2: {r2_score}\")"
   ]
  },
  {
   "cell_type": "markdown",
   "id": "07fcebf7",
   "metadata": {},
   "source": [
    "The Cambria Tail Risk ETF (TAIL) is designed to hedge against market downturns while tracking the performance of the SPDR S&P 500 ETF Trust (SPY). The regression analysis demonstrates a significant insight with a beta coefficient of -0.49037423. This negative beta indicates that TAIL moves inversely relative to SPY, which is consistent with its hedging strategy where it's designed to perform better, or mitigate losses, when the market declines. This strategy is intuitive as TAIL includes put options that gain in value when the market falls, providing protection against losses.\n",
    "\n",
    "Further, the R² value of 0.5086 from the regression suggests that about 51% of TAIL's variability is explained by SPY's movements, indicating a moderate relationship influenced significantly by its protective put options during downturns. \n",
    "\n",
    "The kurtosis value you've noted is reported as being \"3 in excess of normal,\" which implies a kurtosis measurement typical of what statisticians refer to as \"excess kurtosis.\" Normal distributions have a kurtosis of 3, so an excess kurtosis of 3 means the actual kurtosis of TAIL's return distribution is 6. This higher kurtosis indicates a \"leptokurtic\" distribution, which is characterized by fatter tails compared to a normal distribution. In practical terms, this means that TAIL's returns are more prone to exhibiting extreme values (both positive and negative) than what would be expected in a normal distribution. For a fund like TAIL, which includes put options as a form of downside protection, the presence of fat tails suggests that it can capture more frequent extreme gains during market downturns, reflecting the activation of its protective strategies (put options increasing in value). ositive skewness in this context means that the tail on the right side of the distribution (representing higher-than-average returns) is longer or fatter than the tail on the left side (lower-than-average returns). This could imply that while TAIL is designed to protect against downturns, it also occasionally captures larger gains. This might occur during volatile market periods when the put options TAIL holds increase sharply in value, reflecting their design to hedge against market drops."
   ]
  },
  {
   "cell_type": "markdown",
   "id": "9c20b444",
   "metadata": {},
   "source": [
    "## 3. \n",
    "\n",
    "The ProShares case introduces Levered ETFs. ProShares made much of its name originally through levered, or \"geared\" ETFs.\n",
    "\n",
    "Explain conceptually why Levered ETFs may track their index well for a given day but diverge over time. How is this exacerbated in volatile periods like 2008?\n",
    "\n",
    "## 4.\n",
    "\n",
    "Analyze SPXU and UPRO relative to SPY.\n",
    "- SPXU is ProShares -3x SPX ETF.\n",
    "- UPRO is ProShres +3x SPX ETF.\n",
    "\n",
    "Questions:\n",
    "* Analyze them with the statistics from 2.1-2.3. \n",
    "\n",
    "* Do these two ETFs seem to live up to their names?\n",
    "\n",
    "* Plot the cumulative returns of both these ETFs along with SPY.\n",
    "\n",
    "* What do you conclude about levered ETFs?"
   ]
  },
  {
   "cell_type": "code",
   "execution_count": 141,
   "id": "775c0032",
   "metadata": {},
   "outputs": [
    {
     "name": "stdout",
     "output_type": "stream",
     "text": [
      "Summary Statistics\n",
      "\n",
      "\n"
     ]
    },
    {
     "data": {
      "text/html": [
       "<div>\n",
       "<style scoped>\n",
       "    .dataframe tbody tr th:only-of-type {\n",
       "        vertical-align: middle;\n",
       "    }\n",
       "\n",
       "    .dataframe tbody tr th {\n",
       "        vertical-align: top;\n",
       "    }\n",
       "\n",
       "    .dataframe thead th {\n",
       "        text-align: right;\n",
       "    }\n",
       "</style>\n",
       "<table border=\"1\" class=\"dataframe\">\n",
       "  <thead>\n",
       "    <tr style=\"text-align: right;\">\n",
       "      <th></th>\n",
       "      <th>VaR</th>\n",
       "      <th>CVaR</th>\n",
       "      <th>skew</th>\n",
       "      <th>kurtosis</th>\n",
       "    </tr>\n",
       "  </thead>\n",
       "  <tbody>\n",
       "    <tr>\n",
       "      <th>SPXU US Equity</th>\n",
       "      <td>-0.193766</td>\n",
       "      <td>-0.260019</td>\n",
       "      <td>0.579894</td>\n",
       "      <td>0.792766</td>\n",
       "    </tr>\n",
       "    <tr>\n",
       "      <th>UPRO US Equity</th>\n",
       "      <td>-0.207121</td>\n",
       "      <td>-0.270624</td>\n",
       "      <td>-0.459747</td>\n",
       "      <td>1.186056</td>\n",
       "    </tr>\n",
       "  </tbody>\n",
       "</table>\n",
       "</div>"
      ],
      "text/plain": [
       "                     VaR      CVaR      skew  kurtosis\n",
       "SPXU US Equity -0.193766 -0.260019  0.579894  0.792766\n",
       "UPRO US Equity -0.207121 -0.270624 -0.459747  1.186056"
      ]
     },
     "metadata": {},
     "output_type": "display_data"
    },
    {
     "name": "stdout",
     "output_type": "stream",
     "text": [
      "Validation with pandas stats\n",
      "\n",
      "\n"
     ]
    },
    {
     "data": {
      "text/html": [
       "<div>\n",
       "<style scoped>\n",
       "    .dataframe tbody tr th:only-of-type {\n",
       "        vertical-align: middle;\n",
       "    }\n",
       "\n",
       "    .dataframe tbody tr th {\n",
       "        vertical-align: top;\n",
       "    }\n",
       "\n",
       "    .dataframe thead th {\n",
       "        text-align: right;\n",
       "    }\n",
       "</style>\n",
       "<table border=\"1\" class=\"dataframe\">\n",
       "  <thead>\n",
       "    <tr style=\"text-align: right;\">\n",
       "      <th></th>\n",
       "      <th>pandas_skew</th>\n",
       "    </tr>\n",
       "  </thead>\n",
       "  <tbody>\n",
       "    <tr>\n",
       "      <th>SPXU US Equity</th>\n",
       "      <td>0.587328</td>\n",
       "    </tr>\n",
       "    <tr>\n",
       "      <th>UPRO US Equity</th>\n",
       "      <td>-0.465642</td>\n",
       "    </tr>\n",
       "  </tbody>\n",
       "</table>\n",
       "</div>"
      ],
      "text/plain": [
       "                pandas_skew\n",
       "SPXU US Equity     0.587328\n",
       "UPRO US Equity    -0.465642"
      ]
     },
     "metadata": {},
     "output_type": "display_data"
    },
    {
     "data": {
      "text/html": [
       "<div>\n",
       "<style scoped>\n",
       "    .dataframe tbody tr th:only-of-type {\n",
       "        vertical-align: middle;\n",
       "    }\n",
       "\n",
       "    .dataframe tbody tr th {\n",
       "        vertical-align: top;\n",
       "    }\n",
       "\n",
       "    .dataframe thead th {\n",
       "        text-align: right;\n",
       "    }\n",
       "</style>\n",
       "<table border=\"1\" class=\"dataframe\">\n",
       "  <thead>\n",
       "    <tr style=\"text-align: right;\">\n",
       "      <th></th>\n",
       "      <th>pandas_kurtosis</th>\n",
       "    </tr>\n",
       "  </thead>\n",
       "  <tbody>\n",
       "    <tr>\n",
       "      <th>SPXU US Equity</th>\n",
       "      <td>0.882335</td>\n",
       "    </tr>\n",
       "    <tr>\n",
       "      <th>UPRO US Equity</th>\n",
       "      <td>1.290947</td>\n",
       "    </tr>\n",
       "  </tbody>\n",
       "</table>\n",
       "</div>"
      ],
      "text/plain": [
       "                pandas_kurtosis\n",
       "SPXU US Equity         0.882335\n",
       "UPRO US Equity         1.290947"
      ]
     },
     "metadata": {},
     "output_type": "display_data"
    }
   ],
   "source": [
    "spxu_urpo = other_data.loc[:,[\"SPXU US Equity\", \"UPRO US Equity\"]]\n",
    "data = spxu_urpo.dropna()\n",
    "# VaR\n",
    "def get_VaR(data, alpha=0.05):\n",
    "    return data.quantile(alpha)\n",
    "\n",
    "# CVaR\n",
    "def get_CVaR(data, alpha=0.05):\n",
    "    return data[data <= get_VaR(data, alpha)].mean()\n",
    "\n",
    "VaR = get_VaR(data, alpha = 0.05)\n",
    "CVaR = get_CVaR(data, alpha = 0.05)\n",
    "data_excess_mean = data - data.mean(axis = 0)\n",
    "skew_val = ((data_excess_mean)**3).sum(axis = 0) / ((data.std(axis = 0))**3 * (len(data)-1))\n",
    "kurt_val = ((data_excess_mean)**4).sum(axis = 0) / ((data.std(axis = 0))**4 * (len(data)-1)) - 3\n",
    "stats = pd.concat([VaR.to_frame(name=\"VaR\"), CVaR.to_frame(name = \"CVaR\"), skew_val.to_frame(name=\"skew\"), kurt_val.to_frame(name=\"kurtosis\")], axis = 1)\n",
    "print(\"Summary Statistics\")\n",
    "print(\"\\n\")\n",
    "display(stats)\n",
    "\n",
    "print(\"Validation with pandas stats\")\n",
    "print(\"\\n\")\n",
    "skew_val = data.skew(axis=0).to_frame(name=\"pandas_skew\")\n",
    "kurtosis_val = data.kurtosis(axis=0).to_frame(name=\"pandas_kurtosis\")\n",
    "display(skew_val)\n",
    "display(kurtosis_val)\n"
   ]
  },
  {
   "cell_type": "code",
   "execution_count": 142,
   "id": "a171821d",
   "metadata": {},
   "outputs": [
    {
     "data": {
      "text/html": [
       "<div>\n",
       "<style scoped>\n",
       "    .dataframe tbody tr th:only-of-type {\n",
       "        vertical-align: middle;\n",
       "    }\n",
       "\n",
       "    .dataframe tbody tr th {\n",
       "        vertical-align: top;\n",
       "    }\n",
       "\n",
       "    .dataframe thead th {\n",
       "        text-align: right;\n",
       "    }\n",
       "</style>\n",
       "<table border=\"1\" class=\"dataframe\">\n",
       "  <thead>\n",
       "    <tr style=\"text-align: right;\">\n",
       "      <th></th>\n",
       "      <th>SPXU US Equity</th>\n",
       "      <th>UPRO US Equity</th>\n",
       "    </tr>\n",
       "  </thead>\n",
       "  <tbody>\n",
       "    <tr>\n",
       "      <th>beta</th>\n",
       "      <td>-2.642372</td>\n",
       "      <td>3.089305</td>\n",
       "    </tr>\n",
       "    <tr>\n",
       "      <th>intercept</th>\n",
       "      <td>-0.005452</td>\n",
       "      <td>-0.006393</td>\n",
       "    </tr>\n",
       "  </tbody>\n",
       "</table>\n",
       "</div>"
      ],
      "text/plain": [
       "           SPXU US Equity  UPRO US Equity\n",
       "beta            -2.642372        3.089305\n",
       "intercept       -0.005452       -0.006393"
      ]
     },
     "metadata": {},
     "output_type": "display_data"
    },
    {
     "data": {
      "text/html": [
       "<div>\n",
       "<style scoped>\n",
       "    .dataframe tbody tr th:only-of-type {\n",
       "        vertical-align: middle;\n",
       "    }\n",
       "\n",
       "    .dataframe tbody tr th {\n",
       "        vertical-align: top;\n",
       "    }\n",
       "\n",
       "    .dataframe thead th {\n",
       "        text-align: right;\n",
       "    }\n",
       "</style>\n",
       "<table border=\"1\" class=\"dataframe\">\n",
       "  <thead>\n",
       "    <tr style=\"text-align: right;\">\n",
       "      <th></th>\n",
       "      <th>SPXU US Equity</th>\n",
       "      <th>UPRO US Equity</th>\n",
       "    </tr>\n",
       "  </thead>\n",
       "  <tbody>\n",
       "    <tr>\n",
       "      <th>Information_Ratio</th>\n",
       "      <td>-0.160325</td>\n",
       "      <td>-0.589378</td>\n",
       "    </tr>\n",
       "  </tbody>\n",
       "</table>\n",
       "</div>"
      ],
      "text/plain": [
       "                   SPXU US Equity  UPRO US Equity\n",
       "Information_Ratio       -0.160325       -0.589378"
      ]
     },
     "metadata": {},
     "output_type": "display_data"
    },
    {
     "data": {
      "text/html": [
       "<div>\n",
       "<style scoped>\n",
       "    .dataframe tbody tr th:only-of-type {\n",
       "        vertical-align: middle;\n",
       "    }\n",
       "\n",
       "    .dataframe tbody tr th {\n",
       "        vertical-align: top;\n",
       "    }\n",
       "\n",
       "    .dataframe thead th {\n",
       "        text-align: right;\n",
       "    }\n",
       "</style>\n",
       "<table border=\"1\" class=\"dataframe\">\n",
       "  <thead>\n",
       "    <tr style=\"text-align: right;\">\n",
       "      <th></th>\n",
       "      <th>SPXU US Equity</th>\n",
       "      <th>UPRO US Equity</th>\n",
       "    </tr>\n",
       "  </thead>\n",
       "  <tbody>\n",
       "    <tr>\n",
       "      <th>beta</th>\n",
       "      <td>-2.642372</td>\n",
       "      <td>3.089305</td>\n",
       "    </tr>\n",
       "    <tr>\n",
       "      <th>intercept</th>\n",
       "      <td>-0.005452</td>\n",
       "      <td>-0.006393</td>\n",
       "    </tr>\n",
       "    <tr>\n",
       "      <th>Treynor_Ratio</th>\n",
       "      <td>0.013966</td>\n",
       "      <td>0.009834</td>\n",
       "    </tr>\n",
       "    <tr>\n",
       "      <th>Information_Ratio</th>\n",
       "      <td>-0.160325</td>\n",
       "      <td>-0.589378</td>\n",
       "    </tr>\n",
       "  </tbody>\n",
       "</table>\n",
       "</div>"
      ],
      "text/plain": [
       "                   SPXU US Equity  UPRO US Equity\n",
       "beta                    -2.642372        3.089305\n",
       "intercept               -0.005452       -0.006393\n",
       "Treynor_Ratio            0.013966        0.009834\n",
       "Information_Ratio       -0.160325       -0.589378"
      ]
     },
     "execution_count": 142,
     "metadata": {},
     "output_type": "execute_result"
    }
   ],
   "source": [
    "# Treynor ratio not risk free adjusted\n",
    "model = LinearRegression(fit_intercept=True)\n",
    "model_params = {}\n",
    "@delayed\n",
    "def compute_regression(target_data):\n",
    "    model.fit(spy_data.values.reshape(-1,1), target_data)\n",
    "    return model.coef_[0], model.intercept_\n",
    "results = []\n",
    "for col in data.columns:\n",
    "    result = compute_regression(data[col])\n",
    "    results.append(result)\n",
    "model_params = dask.compute(*results)\n",
    "model_params_data = pd.DataFrame({col: {\"beta\": beta, \"intercept\": intercept} for col, (beta, intercept) in zip(data.columns, model_params)})\n",
    "display(model_params_data)\n",
    "Treynor_ratio = (data.mean() / model_params_data.loc[\"beta\",:].T).to_frame(name=\"Treynor_Ratio\")\n",
    "predicted = spy_data.to_numpy().reshape(-1,1) * model_params_data.loc[\"beta\",:].to_numpy().T\n",
    "\n",
    "unexplained = data.to_numpy() - predicted\n",
    "unexplained_mean = unexplained.mean(axis = 0)\n",
    "unexplained_std = unexplained.std(axis = 0)\n",
    "information_ratios = unexplained_mean / unexplained_std\n",
    "information_ratios.T\n",
    "\n",
    "information_df = pd.DataFrame(information_ratios.reshape(1,-1), columns=model_params_data.loc[\"beta\",:].T.index,index=[\"Information_Ratio\"])\n",
    "display(information_df)\n",
    "\n",
    "pd.concat([model_params_data,Treynor_ratio.T, information_df], axis = 0)\n"
   ]
  },
  {
   "cell_type": "markdown",
   "id": "1a55b5b5",
   "metadata": {},
   "source": [
    "Leveraged ETFs (LETFs), such as those offering 2x or 3x the daily returns of an underlying index, fundamentally rely on a daily reset and rebalancing mechanism that significantly impacts their long-term performance, especially in volatile market conditions. This daily rebalancing is necessary to maintain the fund's target level of leverage (e.g., 2x or 3x exposure) to the underlying index each day.\n",
    "\n",
    "Daily Reset and Rebalancing\n",
    "Each day, a leveraged ETF adjusts its exposure to ensure that the leverage ratio remains consistent with the fund's objectives. This means that the LETF must buy more of the underlying assets on days when the market goes up and sell assets on days when the market goes down to rebalance to the desired leverage level. This daily adjustment is straightforward and aligns well with the fund's goals on a day-to-day basis, ensuring that the ETF delivers, for instance, double or triple the index's daily return.\n",
    "\n",
    "Impact of Volatility on Long-Term Performance\n",
    "However, the implications of this daily reset become complex over longer periods, particularly in volatile markets. Here’s why:\n",
    "\n",
    "Compounding Effects: In a volatile market, the index might experience significant daily fluctuations—ups and downs—which can be magnified by the leverage. Suppose an index alternates between rising and falling by a certain percentage over several days. In such a scenario, losses on down days have a disproportionately larger negative impact because they are calculated from a diminished base that never fully recovers on the up days due to the mathematical nature of compounding losses.\n",
    "\n",
    "Example to Illustrate: Consider a simple scenario where an index starts at 100, goes up 5% one day (to 105), and goes down 5% the next day (back to approximately 99.75). A 2x leveraged ETF would aim to amplify these movements, rising 10% on the up day (to 110) and falling 10% on the down day (to 99). Over time, this pattern leads to a decay in the value of the ETF relative to what might be expected if it merely doubled the index’s total period return.\n",
    "\n",
    "Volatile Periods Like 2008: During the financial crisis of 2008, market volatility was exceptionally high with frequent large swings in stock prices. For LETFs, this meant that the adverse effects of daily rebalancing were significantly pronounced. The high volatility increased the frequency and magnitude of rebalancing, which, due to the compounding of daily returns, could lead to outcomes vastly different from the expected 2x or 3x cumulative return over an extended period. In essence, the greater the volatility, the larger the potential deviation from the expected long-term returns due to the impact of loss compounding on down days.\n",
    "\n",
    "Conclusion\n",
    "Thus, while LETFs are excellent tools for achieving amplified returns over short periods, especially in markets with minimal volatility, they are generally not suitable for long-term investment horizons, particularly in volatile conditions. The daily reset and rebalancing mechanism, while maintaining the fund’s leverage ratio, can lead to significant performance erosion over time due to the compounding effects of daily returns. Investors in LETFs must be cautious and ideally should have a strategy for managing trades actively, focusing on short holding periods and closely monitoring market conditions."
   ]
  },
  {
   "cell_type": "markdown",
   "id": "affdb946",
   "metadata": {},
   "source": [
    "Risk Profile: Both ETFs exhibit elevated risk levels (high VaR and CVaR), which are intrinsic to leveraged and inverse strategies. This heightened risk makes them suitable primarily for sophisticated investors or those with short-term trading strategies who can closely monitor and manage their positions.\n",
    "\n",
    "Beta Values:\n",
    "\n",
    "SPXU (ProShares -3x SPX ETF) has a beta of -2.642372. This indicates a strong inverse relationship to the S&P 500; as SPX rises, SPXU should fall, and vice versa, aiming for three times the inverse of the daily performance.\n",
    "UPRO (ProShares +3x SPX ETF) has a beta of 3.089305, showing that it aims to amplify the daily movements of the S&P 500 by approximately three times.\n",
    "Intercept:\n",
    "\n",
    "Both ETFs show a negative intercept, -0.005452 for SPXU and -0.006393 for UPRO, suggesting a slight downward drift relative to their benchmarks independent of market movements.\n",
    "Value at Risk (VaR) and Conditional Value at Risk (CVaR):\n",
    "\n",
    "SPXU: VaR is -0.193766 and CVaR is -0.260019, indicating significant potential losses on the worst days (beyond the typical maximum loss expected).\n",
    "UPRO: VaR is -0.207121 and CVaR is -0.270624, highlighting similar intense risk levels but in the context of amplified gains and losses due to its 3x leverage."
   ]
  },
  {
   "cell_type": "markdown",
   "id": "2acea83e",
   "metadata": {},
   "source": [
    "***"
   ]
  }
 ],
 "metadata": {
  "hide_input": false,
  "kernelspec": {
   "display_name": "chicago-aug-review",
   "language": "python",
   "name": "python3"
  },
  "language_info": {
   "codemirror_mode": {
    "name": "ipython",
    "version": 3
   },
   "file_extension": ".py",
   "mimetype": "text/x-python",
   "name": "python",
   "nbconvert_exporter": "python",
   "pygments_lexer": "ipython3",
   "version": "3.11.9"
  }
 },
 "nbformat": 4,
 "nbformat_minor": 5
}
